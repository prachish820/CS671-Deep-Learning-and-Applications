{
 "cells": [
  {
   "cell_type": "code",
   "execution_count": 1,
   "id": "fff89985",
   "metadata": {},
   "outputs": [],
   "source": [
    "# import libraries\n",
    "\n",
    "import numpy as np\n",
    "import pandas as pd\n",
    "import matplotlib.pyplot as plt\n",
    "from matplotlib.ticker import MaxNLocator\n",
    "import os\n",
    "import cv2 \n",
    "import tensorflow as tf\n",
    "from tensorflow import keras\n",
    "from tensorflow.keras.models import Model\n",
    "from tensorflow.keras.layers import Input, Dense, GaussianNoise, Flatten, Rescaling\n",
    "from tensorflow.keras import initializers\n",
    "from tensorflow.keras.callbacks import EarlyStopping\n",
    "from tensorflow.keras.utils import to_categorical\n",
    "from keras import backend as K"
   ]
  },
  {
   "cell_type": "code",
   "execution_count": 2,
   "id": "b382165b",
   "metadata": {},
   "outputs": [],
   "source": [
    "# Loading MNIST data having images of handwritten digits [1,2,3,6,9]\n",
    "\n",
    "root_dir = \"..\\CS671_Assignment3\\Group_13\"\n",
    "train_dir = os.path.join(root_dir,\"train\")\n",
    "val_dir = os.path.join(root_dir,\"val\")\n",
    "test_dir = os.path.join(root_dir,\"test\")"
   ]
  },
  {
   "cell_type": "code",
   "execution_count": 3,
   "id": "32e48b42",
   "metadata": {},
   "outputs": [],
   "source": [
    "class_map = {1:0,2:1,3:2,6:3,9:4}\n",
    "def load_data(path):\n",
    "    x,y = [],[]\n",
    "    class_dirs = [\"1\",\"2\",\"3\",\"6\",\"9\"]\n",
    "\n",
    "    for class_dir in class_dirs:\n",
    "        class_path = os.path.join(path,class_dir)\n",
    "        for img_file in os.listdir(class_path):\n",
    "            img_path = os.path.join(class_path,img_file)\n",
    "            \n",
    "            #reading image\n",
    "            img = cv2.imread(img_path,-1)\n",
    "            x.append(np.array(img))\n",
    "            y.append(class_map[int(class_dir)])\n",
    "    x=np.array(x)\n",
    "    #y=np.array(list(map(int, y)))\n",
    "    y=to_categorical(y,num_classes=5)\n",
    "    return x,y"
   ]
  },
  {
   "cell_type": "code",
   "execution_count": 4,
   "id": "f13cdfb7",
   "metadata": {},
   "outputs": [],
   "source": [
    "train_x,train_y=load_data(train_dir)\n",
    "val_x,val_y=load_data(val_dir)\n",
    "test_x,test_y=load_data(test_dir)"
   ]
  },
  {
   "cell_type": "code",
   "execution_count": 6,
   "id": "1e888546",
   "metadata": {},
   "outputs": [],
   "source": [
    "# normalizing data\n",
    "from sklearn.preprocessing import MinMaxScaler\n",
    "\n",
    "train_x_flat=train_x.reshape(train_x.shape[0],-1)\n",
    "val_x_flat=val_x.reshape(val_x.shape[0],-1)\n",
    "test_x_flat=test_x.reshape(test_x.shape[0],-1)\n",
    "\n",
    "scaler=MinMaxScaler()\n",
    "scaler.fit(train_x_flat)\n",
    "train_x_scaled=scaler.transform(train_x_flat)\n",
    "val_x_scaled=scaler.transform(val_x_flat)\n",
    "test_x_scaled=scaler.transform(test_x_flat)"
   ]
  },
  {
   "cell_type": "code",
   "execution_count": 7,
   "id": "05b1db30",
   "metadata": {},
   "outputs": [],
   "source": [
    "# adding noise to data with probability 'p'\n",
    "def add_noise(data,p=0.2,mu=0,std=1):\n",
    "    \n",
    "    #generate a matrix with {0,1} where 1 appears with probability 'p' to add noise\n",
    "    # and 0 appears with probability '1-p' to retain corresponding feature\n",
    "    t=np.random.binomial(1,p,size=data.shape)\n",
    "    \n",
    "    # add gaussian noise to data\n",
    "    noisy_data=data+np.random.normal(loc=mu,scale=std,size=data.shape)*t\n",
    "    \n",
    "    #scaling of noisy data\n",
    "    scaler=MinMaxScaler()\n",
    "    scaler.fit(noisy_data)\n",
    "    noisy_data_scaled=scaler.transform(train_x_flat)\n",
    "    return noisy_data_scaled"
   ]
  },
  {
   "cell_type": "code",
   "execution_count": 34,
   "id": "0e6802e6",
   "metadata": {},
   "outputs": [],
   "source": [
    "# set weight initializer for Keras layers\n",
    "weights_ini=initializers.RandomNormal(mean=0,stddev=0.5,seed=123)\n",
    "bias_ini=initializers.Zeros()"
   ]
  },
  {
   "cell_type": "code",
   "execution_count": 35,
   "id": "f2da322d",
   "metadata": {},
   "outputs": [],
   "source": [
    "# single hidden layer autoencoder\n",
    "inputs = Input(shape=(784,),name='input_layer')\n",
    "l1=Dense(64, kernel_initializer=weights_ini, bias_initializer=bias_ini, activation = 'sigmoid',name='middle_layer')(inputs)\n",
    "outputs = Dense(784, kernel_initializer=weights_ini, bias_initializer=bias_ini, activation = 'sigmoid', name='output_layer')(l1)\n",
    "\n",
    "full_model = Model(inputs=inputs, outputs=outputs)\n",
    "encoder = Model(inputs=inputs, outputs=l1)\n",
    "decoder = Model(inputs=l1, outputs=outputs)"
   ]
  },
  {
   "cell_type": "code",
   "execution_count": 36,
   "id": "4b512ad8",
   "metadata": {},
   "outputs": [
    {
     "name": "stdout",
     "output_type": "stream",
     "text": [
      "Model: \"model_12\"\n",
      "_________________________________________________________________\n",
      " Layer (type)                Output Shape              Param #   \n",
      "=================================================================\n",
      " input_layer (InputLayer)    [(None, 784)]             0         \n",
      "                                                                 \n",
      " middle_layer (Dense)        (None, 64)                50240     \n",
      "                                                                 \n",
      " output_layer (Dense)        (None, 784)               50960     \n",
      "                                                                 \n",
      "=================================================================\n",
      "Total params: 101,200\n",
      "Trainable params: 101,200\n",
      "Non-trainable params: 0\n",
      "_________________________________________________________________\n"
     ]
    }
   ],
   "source": [
    "full_model.summary()"
   ]
  },
  {
   "cell_type": "code",
   "execution_count": 37,
   "id": "e13105db",
   "metadata": {},
   "outputs": [],
   "source": [
    "# Setting optimiser\n",
    "opt_Adam = keras.optimizers.Adam(learning_rate=0.001,beta_1=0.9,beta_2=0.999,epsilon=1e-08,name=\"Adam\")\n",
    "\n",
    "# compiling model\n",
    "full_model.compile(optimizer=opt_Adam,loss=\"mse\",metrics=[\"mean_squared_error\"])\n",
    "\n",
    "# setting convergence criterion\n",
    "my_callbacks = EarlyStopping(monitor='loss',min_delta=0.0001,patience=10,verbose=1)"
   ]
  },
  {
   "cell_type": "code",
   "execution_count": 38,
   "id": "e461ef13",
   "metadata": {},
   "outputs": [
    {
     "name": "stdout",
     "output_type": "stream",
     "text": [
      "epoch:  1\n",
      "356/356 [==============================] - 5s 12ms/step - loss: 0.1158 - mean_squared_error: 0.1158 - val_loss: 0.0630 - val_mean_squared_error: 0.0630\n",
      "epoch:  2\n",
      "356/356 [==============================] - 4s 11ms/step - loss: 0.0594 - mean_squared_error: 0.0594 - val_loss: 0.0542 - val_mean_squared_error: 0.0542\n",
      "epoch:  3\n",
      "356/356 [==============================] - 4s 11ms/step - loss: 0.0518 - mean_squared_error: 0.0518 - val_loss: 0.0485 - val_mean_squared_error: 0.0485\n",
      "epoch:  4\n",
      "356/356 [==============================] - 4s 11ms/step - loss: 0.0472 - mean_squared_error: 0.0472 - val_loss: 0.0445 - val_mean_squared_error: 0.0445\n",
      "epoch:  5\n",
      "356/356 [==============================] - 4s 11ms/step - loss: 0.0437 - mean_squared_error: 0.0437 - val_loss: 0.0414 - val_mean_squared_error: 0.0414\n",
      "epoch:  6\n",
      "356/356 [==============================] - 4s 11ms/step - loss: 0.0411 - mean_squared_error: 0.0411 - val_loss: 0.0390 - val_mean_squared_error: 0.0390\n",
      "epoch:  7\n",
      "356/356 [==============================] - 4s 11ms/step - loss: 0.0393 - mean_squared_error: 0.0393 - val_loss: 0.0376 - val_mean_squared_error: 0.0376\n",
      "epoch:  8\n",
      "356/356 [==============================] - 4s 11ms/step - loss: 0.0380 - mean_squared_error: 0.0380 - val_loss: 0.0362 - val_mean_squared_error: 0.0362\n",
      "epoch:  9\n",
      "356/356 [==============================] - 4s 12ms/step - loss: 0.0368 - mean_squared_error: 0.0368 - val_loss: 0.0352 - val_mean_squared_error: 0.0352\n",
      "epoch:  10\n",
      "356/356 [==============================] - 4s 11ms/step - loss: 0.0359 - mean_squared_error: 0.0359 - val_loss: 0.0344 - val_mean_squared_error: 0.0344\n",
      "epoch:  11\n",
      "356/356 [==============================] - 4s 11ms/step - loss: 0.0352 - mean_squared_error: 0.0352 - val_loss: 0.0336 - val_mean_squared_error: 0.0336\n",
      "epoch:  12\n",
      "356/356 [==============================] - 4s 11ms/step - loss: 0.0345 - mean_squared_error: 0.0345 - val_loss: 0.0330 - val_mean_squared_error: 0.0330\n",
      "epoch:  13\n",
      "356/356 [==============================] - 4s 12ms/step - loss: 0.0339 - mean_squared_error: 0.0339 - val_loss: 0.0324 - val_mean_squared_error: 0.0324\n",
      "epoch:  14\n",
      "356/356 [==============================] - 4s 11ms/step - loss: 0.0334 - mean_squared_error: 0.0334 - val_loss: 0.0318 - val_mean_squared_error: 0.0318\n",
      "epoch:  15\n",
      "356/356 [==============================] - 4s 12ms/step - loss: 0.0330 - mean_squared_error: 0.0330 - val_loss: 0.0313 - val_mean_squared_error: 0.0313\n",
      "epoch:  16\n",
      "356/356 [==============================] - 4s 11ms/step - loss: 0.0325 - mean_squared_error: 0.0325 - val_loss: 0.0310 - val_mean_squared_error: 0.0310\n",
      "epoch:  17\n",
      "356/356 [==============================] - 4s 11ms/step - loss: 0.0322 - mean_squared_error: 0.0322 - val_loss: 0.0306 - val_mean_squared_error: 0.0306\n",
      "epoch:  18\n",
      "356/356 [==============================] - 4s 11ms/step - loss: 0.0319 - mean_squared_error: 0.0319 - val_loss: 0.0303 - val_mean_squared_error: 0.0303\n",
      "epoch:  19\n",
      "356/356 [==============================] - 4s 11ms/step - loss: 0.0317 - mean_squared_error: 0.0317 - val_loss: 0.0300 - val_mean_squared_error: 0.0300\n",
      "epoch:  20\n",
      "356/356 [==============================] - 4s 12ms/step - loss: 0.0313 - mean_squared_error: 0.0313 - val_loss: 0.0298 - val_mean_squared_error: 0.0298\n",
      "epoch:  21\n",
      "356/356 [==============================] - 4s 11ms/step - loss: 0.0311 - mean_squared_error: 0.0311 - val_loss: 0.0295 - val_mean_squared_error: 0.0295\n",
      "epoch:  22\n",
      "356/356 [==============================] - 4s 11ms/step - loss: 0.0309 - mean_squared_error: 0.0309 - val_loss: 0.0293 - val_mean_squared_error: 0.0293\n",
      "epoch:  23\n",
      "356/356 [==============================] - 4s 11ms/step - loss: 0.0306 - mean_squared_error: 0.0306 - val_loss: 0.0290 - val_mean_squared_error: 0.0290\n",
      "epoch:  24\n",
      "356/356 [==============================] - 4s 12ms/step - loss: 0.0304 - mean_squared_error: 0.0304 - val_loss: 0.0288 - val_mean_squared_error: 0.0288\n",
      "epoch:  25\n",
      "356/356 [==============================] - 4s 11ms/step - loss: 0.0302 - mean_squared_error: 0.0302 - val_loss: 0.0287 - val_mean_squared_error: 0.0287\n",
      "epoch:  26\n",
      "356/356 [==============================] - 4s 12ms/step - loss: 0.0301 - mean_squared_error: 0.0301 - val_loss: 0.0285 - val_mean_squared_error: 0.0285\n",
      "epoch:  27\n",
      "356/356 [==============================] - 4s 11ms/step - loss: 0.0299 - mean_squared_error: 0.0299 - val_loss: 0.0283 - val_mean_squared_error: 0.0283\n",
      "epoch:  28\n",
      "356/356 [==============================] - 4s 11ms/step - loss: 0.0296 - mean_squared_error: 0.0296 - val_loss: 0.0279 - val_mean_squared_error: 0.0279\n",
      "epoch:  29\n",
      "356/356 [==============================] - 4s 11ms/step - loss: 0.0293 - mean_squared_error: 0.0293 - val_loss: 0.0276 - val_mean_squared_error: 0.0276\n",
      "epoch:  30\n",
      "356/356 [==============================] - 4s 11ms/step - loss: 0.0291 - mean_squared_error: 0.0291 - val_loss: 0.0274 - val_mean_squared_error: 0.0274\n",
      "epoch:  31\n",
      "356/356 [==============================] - 4s 11ms/step - loss: 0.0288 - mean_squared_error: 0.0288 - val_loss: 0.0273 - val_mean_squared_error: 0.0273\n",
      "epoch:  32\n",
      "356/356 [==============================] - 4s 11ms/step - loss: 0.0285 - mean_squared_error: 0.0285 - val_loss: 0.0270 - val_mean_squared_error: 0.0270\n",
      "epoch:  33\n",
      "356/356 [==============================] - 4s 11ms/step - loss: 0.0284 - mean_squared_error: 0.0284 - val_loss: 0.0270 - val_mean_squared_error: 0.0270\n",
      "epoch:  34\n",
      "356/356 [==============================] - 4s 12ms/step - loss: 0.0282 - mean_squared_error: 0.0282 - val_loss: 0.0267 - val_mean_squared_error: 0.0267\n",
      "epoch:  35\n",
      "356/356 [==============================] - 4s 11ms/step - loss: 0.0281 - mean_squared_error: 0.0281 - val_loss: 0.0266 - val_mean_squared_error: 0.0266\n",
      "epoch:  36\n",
      "356/356 [==============================] - 4s 12ms/step - loss: 0.0279 - mean_squared_error: 0.0279 - val_loss: 0.0264 - val_mean_squared_error: 0.0264\n",
      "epoch:  37\n",
      "356/356 [==============================] - 4s 11ms/step - loss: 0.0277 - mean_squared_error: 0.0277 - val_loss: 0.0263 - val_mean_squared_error: 0.0263\n",
      "epoch:  38\n",
      "356/356 [==============================] - 4s 11ms/step - loss: 0.0276 - mean_squared_error: 0.0276 - val_loss: 0.0262 - val_mean_squared_error: 0.0262\n",
      "epoch:  39\n",
      "356/356 [==============================] - 4s 11ms/step - loss: 0.0274 - mean_squared_error: 0.0274 - val_loss: 0.0262 - val_mean_squared_error: 0.0262\n",
      "epoch:  40\n",
      "356/356 [==============================] - 4s 11ms/step - loss: 0.0273 - mean_squared_error: 0.0273 - val_loss: 0.0262 - val_mean_squared_error: 0.0262\n",
      "epoch:  41\n",
      "356/356 [==============================] - 4s 11ms/step - loss: 0.0272 - mean_squared_error: 0.0272 - val_loss: 0.0260 - val_mean_squared_error: 0.0260\n",
      "epoch:  42\n",
      "356/356 [==============================] - 4s 11ms/step - loss: 0.0272 - mean_squared_error: 0.0272 - val_loss: 0.0259 - val_mean_squared_error: 0.0259\n",
      "epoch:  43\n",
      "356/356 [==============================] - 4s 11ms/step - loss: 0.0270 - mean_squared_error: 0.0270 - val_loss: 0.0259 - val_mean_squared_error: 0.0259\n",
      "epoch:  44\n",
      "356/356 [==============================] - 4s 12ms/step - loss: 0.0268 - mean_squared_error: 0.0268 - val_loss: 0.0258 - val_mean_squared_error: 0.0258\n",
      "epoch:  45\n",
      "356/356 [==============================] - 4s 11ms/step - loss: 0.0268 - mean_squared_error: 0.0268 - val_loss: 0.0257 - val_mean_squared_error: 0.0257\n",
      "epoch:  46\n",
      "356/356 [==============================] - 4s 11ms/step - loss: 0.0267 - mean_squared_error: 0.0267 - val_loss: 0.0256 - val_mean_squared_error: 0.0256\n",
      "epoch:  47\n",
      "356/356 [==============================] - 4s 11ms/step - loss: 0.0267 - mean_squared_error: 0.0267 - val_loss: 0.0254 - val_mean_squared_error: 0.0254\n",
      "epoch:  48\n",
      "356/356 [==============================] - 4s 11ms/step - loss: 0.0265 - mean_squared_error: 0.0265 - val_loss: 0.0254 - val_mean_squared_error: 0.0254\n",
      "epoch:  49\n",
      "356/356 [==============================] - 4s 11ms/step - loss: 0.0264 - mean_squared_error: 0.0264 - val_loss: 0.0254 - val_mean_squared_error: 0.0254\n",
      "epoch:  50\n",
      "356/356 [==============================] - 4s 11ms/step - loss: 0.0263 - mean_squared_error: 0.0263 - val_loss: 0.0254 - val_mean_squared_error: 0.0254\n",
      "epoch:  51\n",
      "356/356 [==============================] - 4s 12ms/step - loss: 0.0262 - mean_squared_error: 0.0262 - val_loss: 0.0253 - val_mean_squared_error: 0.0253\n",
      "epoch:  52\n",
      "356/356 [==============================] - 4s 11ms/step - loss: 0.0261 - mean_squared_error: 0.0261 - val_loss: 0.0253 - val_mean_squared_error: 0.0253\n",
      "epoch:  53\n",
      "356/356 [==============================] - 4s 11ms/step - loss: 0.0261 - mean_squared_error: 0.0261 - val_loss: 0.0253 - val_mean_squared_error: 0.0253\n",
      "epoch:  54\n",
      "356/356 [==============================] - 4s 12ms/step - loss: 0.0259 - mean_squared_error: 0.0259 - val_loss: 0.0253 - val_mean_squared_error: 0.0253\n",
      "epoch:  55\n",
      "356/356 [==============================] - 4s 12ms/step - loss: 0.0259 - mean_squared_error: 0.0259 - val_loss: 0.0251 - val_mean_squared_error: 0.0251\n",
      "epoch:  56\n",
      "356/356 [==============================] - 4s 12ms/step - loss: 0.0258 - mean_squared_error: 0.0258 - val_loss: 0.0250 - val_mean_squared_error: 0.0250\n",
      "epoch:  57\n",
      "356/356 [==============================] - 4s 12ms/step - loss: 0.0258 - mean_squared_error: 0.0258 - val_loss: 0.0251 - val_mean_squared_error: 0.0251\n",
      "epoch:  58\n",
      "356/356 [==============================] - 4s 12ms/step - loss: 0.0257 - mean_squared_error: 0.0257 - val_loss: 0.0249 - val_mean_squared_error: 0.0249\n",
      "epoch:  59\n",
      "356/356 [==============================] - 4s 12ms/step - loss: 0.0256 - mean_squared_error: 0.0256 - val_loss: 0.0249 - val_mean_squared_error: 0.0249\n",
      "epoch:  60\n",
      "356/356 [==============================] - 4s 12ms/step - loss: 0.0256 - mean_squared_error: 0.0256 - val_loss: 0.0250 - val_mean_squared_error: 0.0250\n",
      "epoch:  61\n",
      "356/356 [==============================] - 4s 11ms/step - loss: 0.0255 - mean_squared_error: 0.0255 - val_loss: 0.0251 - val_mean_squared_error: 0.0251\n",
      "epoch:  62\n",
      "356/356 [==============================] - 4s 11ms/step - loss: 0.0256 - mean_squared_error: 0.0256 - val_loss: 0.0250 - val_mean_squared_error: 0.0250\n",
      "epoch:  63\n",
      "356/356 [==============================] - 4s 11ms/step - loss: 0.0254 - mean_squared_error: 0.0254 - val_loss: 0.0248 - val_mean_squared_error: 0.0248\n",
      "epoch:  64\n",
      "356/356 [==============================] - 4s 12ms/step - loss: 0.0254 - mean_squared_error: 0.0254 - val_loss: 0.0248 - val_mean_squared_error: 0.0248\n",
      "epoch:  65\n",
      "356/356 [==============================] - 4s 11ms/step - loss: 0.0253 - mean_squared_error: 0.0253 - val_loss: 0.0249 - val_mean_squared_error: 0.0249\n",
      "epoch:  66\n",
      "356/356 [==============================] - 4s 11ms/step - loss: 0.0253 - mean_squared_error: 0.0253 - val_loss: 0.0249 - val_mean_squared_error: 0.0249\n",
      "epoch:  67\n",
      "356/356 [==============================] - 4s 11ms/step - loss: 0.0253 - mean_squared_error: 0.0253 - val_loss: 0.0249 - val_mean_squared_error: 0.0249\n",
      "epoch:  68\n",
      "356/356 [==============================] - 4s 12ms/step - loss: 0.0252 - mean_squared_error: 0.0252 - val_loss: 0.0250 - val_mean_squared_error: 0.0250\n",
      "epoch:  69\n",
      "356/356 [==============================] - 4s 11ms/step - loss: 0.0251 - mean_squared_error: 0.0251 - val_loss: 0.0247 - val_mean_squared_error: 0.0247\n",
      "epoch:  70\n",
      "356/356 [==============================] - 4s 12ms/step - loss: 0.0251 - mean_squared_error: 0.0251 - val_loss: 0.0248 - val_mean_squared_error: 0.0248\n",
      "epoch:  71\n",
      "356/356 [==============================] - 4s 11ms/step - loss: 0.0251 - mean_squared_error: 0.0251 - val_loss: 0.0249 - val_mean_squared_error: 0.0249\n",
      "epoch:  72\n",
      "356/356 [==============================] - 4s 11ms/step - loss: 0.0250 - mean_squared_error: 0.0250 - val_loss: 0.0248 - val_mean_squared_error: 0.0248\n",
      "epoch:  73\n",
      "356/356 [==============================] - 4s 11ms/step - loss: 0.0250 - mean_squared_error: 0.0250 - val_loss: 0.0250 - val_mean_squared_error: 0.0250\n",
      "epoch:  74\n",
      "356/356 [==============================] - 4s 12ms/step - loss: 0.0249 - mean_squared_error: 0.0249 - val_loss: 0.0251 - val_mean_squared_error: 0.0251\n",
      "epoch:  75\n",
      "356/356 [==============================] - 4s 12ms/step - loss: 0.0250 - mean_squared_error: 0.0250 - val_loss: 0.0247 - val_mean_squared_error: 0.0247\n",
      "epoch:  76\n",
      "356/356 [==============================] - 4s 12ms/step - loss: 0.0249 - mean_squared_error: 0.0249 - val_loss: 0.0248 - val_mean_squared_error: 0.0248\n",
      "epoch:  77\n",
      "356/356 [==============================] - 4s 12ms/step - loss: 0.0249 - mean_squared_error: 0.0249 - val_loss: 0.0250 - val_mean_squared_error: 0.0250\n",
      "epoch:  78\n",
      "356/356 [==============================] - 4s 12ms/step - loss: 0.0249 - mean_squared_error: 0.0249 - val_loss: 0.0248 - val_mean_squared_error: 0.0248\n",
      "epoch:  79\n",
      "356/356 [==============================] - 4s 11ms/step - loss: 0.0248 - mean_squared_error: 0.0248 - val_loss: 0.0247 - val_mean_squared_error: 0.0247\n",
      "epoch:  80\n",
      "356/356 [==============================] - 4s 12ms/step - loss: 0.0247 - mean_squared_error: 0.0247 - val_loss: 0.0248 - val_mean_squared_error: 0.0248\n",
      "epoch:  81\n",
      "356/356 [==============================] - 4s 12ms/step - loss: 0.0248 - mean_squared_error: 0.0248 - val_loss: 0.0248 - val_mean_squared_error: 0.0248\n",
      "epoch:  82\n",
      "356/356 [==============================] - 4s 12ms/step - loss: 0.0247 - mean_squared_error: 0.0247 - val_loss: 0.0250 - val_mean_squared_error: 0.0250\n",
      "epoch:  83\n",
      "356/356 [==============================] - 4s 11ms/step - loss: 0.0246 - mean_squared_error: 0.0246 - val_loss: 0.0248 - val_mean_squared_error: 0.0248\n",
      "epoch:  84\n",
      "356/356 [==============================] - 4s 12ms/step - loss: 0.0247 - mean_squared_error: 0.0247 - val_loss: 0.0247 - val_mean_squared_error: 0.0247\n",
      "epoch:  85\n",
      "356/356 [==============================] - 4s 11ms/step - loss: 0.0246 - mean_squared_error: 0.0246 - val_loss: 0.0249 - val_mean_squared_error: 0.0249\n",
      "epoch:  86\n",
      "356/356 [==============================] - 4s 12ms/step - loss: 0.0246 - mean_squared_error: 0.0246 - val_loss: 0.0249 - val_mean_squared_error: 0.0249\n",
      "epoch:  87\n",
      "356/356 [==============================] - 4s 11ms/step - loss: 0.0246 - mean_squared_error: 0.0246 - val_loss: 0.0248 - val_mean_squared_error: 0.0248\n",
      "epoch:  88\n",
      "356/356 [==============================] - 4s 12ms/step - loss: 0.0245 - mean_squared_error: 0.0245 - val_loss: 0.0247 - val_mean_squared_error: 0.0247\n",
      "epoch:  89\n",
      "356/356 [==============================] - 4s 12ms/step - loss: 0.0246 - mean_squared_error: 0.0246 - val_loss: 0.0247 - val_mean_squared_error: 0.0247\n",
      "epoch:  90\n",
      "356/356 [==============================] - 4s 12ms/step - loss: 0.0245 - mean_squared_error: 0.0245 - val_loss: 0.0247 - val_mean_squared_error: 0.0247\n",
      "epoch:  91\n",
      "356/356 [==============================] - 4s 12ms/step - loss: 0.0244 - mean_squared_error: 0.0244 - val_loss: 0.0247 - val_mean_squared_error: 0.0247\n",
      "epoch:  92\n",
      "356/356 [==============================] - 4s 12ms/step - loss: 0.0245 - mean_squared_error: 0.0245 - val_loss: 0.0247 - val_mean_squared_error: 0.0247\n",
      "epoch:  93\n",
      "356/356 [==============================] - 4s 12ms/step - loss: 0.0244 - mean_squared_error: 0.0244 - val_loss: 0.0247 - val_mean_squared_error: 0.0247\n",
      "epoch:  94\n",
      "356/356 [==============================] - 4s 12ms/step - loss: 0.0243 - mean_squared_error: 0.0243 - val_loss: 0.0248 - val_mean_squared_error: 0.0248\n",
      "epoch:  95\n",
      "356/356 [==============================] - 4s 12ms/step - loss: 0.0244 - mean_squared_error: 0.0244 - val_loss: 0.0245 - val_mean_squared_error: 0.0245\n",
      "epoch:  96\n",
      "356/356 [==============================] - 4s 12ms/step - loss: 0.0243 - mean_squared_error: 0.0243 - val_loss: 0.0247 - val_mean_squared_error: 0.0247\n",
      "epoch:  97\n",
      "356/356 [==============================] - 4s 12ms/step - loss: 0.0243 - mean_squared_error: 0.0243 - val_loss: 0.0248 - val_mean_squared_error: 0.0248\n",
      "epoch:  98\n",
      "356/356 [==============================] - 4s 12ms/step - loss: 0.0243 - mean_squared_error: 0.0243 - val_loss: 0.0249 - val_mean_squared_error: 0.0249\n",
      "epoch:  99\n",
      "356/356 [==============================] - 4s 12ms/step - loss: 0.0243 - mean_squared_error: 0.0243 - val_loss: 0.0247 - val_mean_squared_error: 0.0247\n",
      "epoch:  100\n",
      "356/356 [==============================] - 5s 13ms/step - loss: 0.0242 - mean_squared_error: 0.0242 - val_loss: 0.0246 - val_mean_squared_error: 0.0246\n",
      "epoch:  101\n"
     ]
    },
    {
     "name": "stdout",
     "output_type": "stream",
     "text": [
      "356/356 [==============================] - 4s 12ms/step - loss: 0.0242 - mean_squared_error: 0.0242 - val_loss: 0.0246 - val_mean_squared_error: 0.0246\n",
      "epoch:  102\n",
      "356/356 [==============================] - 4s 12ms/step - loss: 0.0242 - mean_squared_error: 0.0242 - val_loss: 0.0247 - val_mean_squared_error: 0.0247\n",
      "epoch:  103\n",
      "356/356 [==============================] - 4s 12ms/step - loss: 0.0243 - mean_squared_error: 0.0243 - val_loss: 0.0247 - val_mean_squared_error: 0.0247\n",
      "epoch:  104\n",
      "356/356 [==============================] - 43s 121ms/step - loss: 0.0242 - mean_squared_error: 0.0242 - val_loss: 0.0247 - val_mean_squared_error: 0.0247\n",
      "epoch:  105\n",
      "356/356 [==============================] - 6s 18ms/step - loss: 0.0241 - mean_squared_error: 0.0241 - val_loss: 0.0246 - val_mean_squared_error: 0.0246\n",
      "epoch:  106\n",
      "356/356 [==============================] - 6s 15ms/step - loss: 0.0241 - mean_squared_error: 0.0241 - val_loss: 0.0246 - val_mean_squared_error: 0.0246\n",
      "epoch:  107\n",
      "356/356 [==============================] - 7s 21ms/step - loss: 0.0240 - mean_squared_error: 0.0240 - val_loss: 0.0246 - val_mean_squared_error: 0.0246\n",
      "epoch:  108\n",
      "356/356 [==============================] - 5s 14ms/step - loss: 0.0240 - mean_squared_error: 0.0240 - val_loss: 0.0246 - val_mean_squared_error: 0.0246\n",
      "epoch:  109\n",
      "356/356 [==============================] - 5s 13ms/step - loss: 0.0239 - mean_squared_error: 0.0239 - val_loss: 0.0245 - val_mean_squared_error: 0.0245\n",
      "epoch:  110\n",
      "356/356 [==============================] - 5s 13ms/step - loss: 0.0240 - mean_squared_error: 0.0240 - val_loss: 0.0246 - val_mean_squared_error: 0.0246\n",
      "epoch:  111\n",
      "356/356 [==============================] - 5s 13ms/step - loss: 0.0239 - mean_squared_error: 0.0239 - val_loss: 0.0245 - val_mean_squared_error: 0.0245\n",
      "epoch:  112\n",
      "356/356 [==============================] - 5s 13ms/step - loss: 0.0239 - mean_squared_error: 0.0239 - val_loss: 0.0245 - val_mean_squared_error: 0.0245\n",
      "epoch:  113\n",
      "356/356 [==============================] - 5s 14ms/step - loss: 0.0238 - mean_squared_error: 0.0238 - val_loss: 0.0245 - val_mean_squared_error: 0.0245\n",
      "epoch:  114\n",
      "356/356 [==============================] - 5s 14ms/step - loss: 0.0238 - mean_squared_error: 0.0238 - val_loss: 0.0246 - val_mean_squared_error: 0.0246\n",
      "epoch:  115\n",
      "356/356 [==============================] - 5s 14ms/step - loss: 0.0238 - mean_squared_error: 0.0238 - val_loss: 0.0245 - val_mean_squared_error: 0.0245\n",
      "epoch:  116\n",
      "356/356 [==============================] - 5s 14ms/step - loss: 0.0238 - mean_squared_error: 0.0238 - val_loss: 0.0244 - val_mean_squared_error: 0.0244\n",
      "epoch:  117\n",
      "356/356 [==============================] - 5s 13ms/step - loss: 0.0238 - mean_squared_error: 0.0238 - val_loss: 0.0247 - val_mean_squared_error: 0.0247\n",
      "epoch:  118\n",
      "356/356 [==============================] - 5s 13ms/step - loss: 0.0238 - mean_squared_error: 0.0238 - val_loss: 0.0245 - val_mean_squared_error: 0.0245\n",
      "epoch:  119\n",
      "356/356 [==============================] - 5s 13ms/step - loss: 0.0237 - mean_squared_error: 0.0237 - val_loss: 0.0245 - val_mean_squared_error: 0.0245\n",
      "epoch:  120\n",
      "356/356 [==============================] - 5s 14ms/step - loss: 0.0237 - mean_squared_error: 0.0237 - val_loss: 0.0244 - val_mean_squared_error: 0.0244\n",
      "epoch:  121\n",
      "356/356 [==============================] - 5s 14ms/step - loss: 0.0237 - mean_squared_error: 0.0237 - val_loss: 0.0244 - val_mean_squared_error: 0.0244\n",
      "epoch:  122\n",
      "356/356 [==============================] - 5s 13ms/step - loss: 0.0236 - mean_squared_error: 0.0236 - val_loss: 0.0245 - val_mean_squared_error: 0.0245\n",
      "epoch:  123\n",
      "356/356 [==============================] - 5s 13ms/step - loss: 0.0236 - mean_squared_error: 0.0236 - val_loss: 0.0244 - val_mean_squared_error: 0.0244\n",
      "epoch:  124\n",
      "356/356 [==============================] - 5s 13ms/step - loss: 0.0236 - mean_squared_error: 0.0236 - val_loss: 0.0245 - val_mean_squared_error: 0.0245\n",
      "epoch:  125\n",
      "356/356 [==============================] - 5s 13ms/step - loss: 0.0235 - mean_squared_error: 0.0235 - val_loss: 0.0245 - val_mean_squared_error: 0.0245\n",
      "epoch:  126\n",
      "356/356 [==============================] - 5s 13ms/step - loss: 0.0235 - mean_squared_error: 0.0235 - val_loss: 0.0243 - val_mean_squared_error: 0.0243\n",
      "epoch:  127\n",
      "356/356 [==============================] - 5s 13ms/step - loss: 0.0235 - mean_squared_error: 0.0235 - val_loss: 0.0244 - val_mean_squared_error: 0.0244\n",
      "epoch:  128\n",
      "356/356 [==============================] - 5s 13ms/step - loss: 0.0235 - mean_squared_error: 0.0235 - val_loss: 0.0244 - val_mean_squared_error: 0.0244\n",
      "epoch:  129\n",
      "356/356 [==============================] - 5s 13ms/step - loss: 0.0235 - mean_squared_error: 0.0235 - val_loss: 0.0244 - val_mean_squared_error: 0.0244\n",
      "epoch:  130\n",
      "356/356 [==============================] - 5s 13ms/step - loss: 0.0235 - mean_squared_error: 0.0235 - val_loss: 0.0245 - val_mean_squared_error: 0.0245\n",
      "epoch:  131\n",
      "356/356 [==============================] - 5s 13ms/step - loss: 0.0235 - mean_squared_error: 0.0235 - val_loss: 0.0244 - val_mean_squared_error: 0.0244\n",
      "epoch:  132\n",
      "356/356 [==============================] - 5s 14ms/step - loss: 0.0234 - mean_squared_error: 0.0234 - val_loss: 0.0244 - val_mean_squared_error: 0.0244\n",
      "epoch:  133\n",
      "356/356 [==============================] - 5s 13ms/step - loss: 0.0234 - mean_squared_error: 0.0234 - val_loss: 0.0246 - val_mean_squared_error: 0.0246\n",
      "epoch:  134\n",
      "356/356 [==============================] - 5s 13ms/step - loss: 0.0233 - mean_squared_error: 0.0233 - val_loss: 0.0243 - val_mean_squared_error: 0.0243\n",
      "epoch:  135\n",
      "356/356 [==============================] - 5s 14ms/step - loss: 0.0233 - mean_squared_error: 0.0233 - val_loss: 0.0245 - val_mean_squared_error: 0.0245\n",
      "epoch:  136\n",
      "356/356 [==============================] - 5s 13ms/step - loss: 0.0233 - mean_squared_error: 0.0233 - val_loss: 0.0244 - val_mean_squared_error: 0.0244\n",
      "epoch:  137\n",
      "356/356 [==============================] - 5s 13ms/step - loss: 0.0233 - mean_squared_error: 0.0233 - val_loss: 0.0244 - val_mean_squared_error: 0.0244\n",
      "epoch:  138\n",
      "356/356 [==============================] - 5s 13ms/step - loss: 0.0233 - mean_squared_error: 0.0233 - val_loss: 0.0244 - val_mean_squared_error: 0.0244\n",
      "epoch:  139\n",
      "356/356 [==============================] - 5s 14ms/step - loss: 0.0233 - mean_squared_error: 0.0233 - val_loss: 0.0244 - val_mean_squared_error: 0.0244\n",
      "epoch:  140\n",
      "356/356 [==============================] - 5s 13ms/step - loss: 0.0233 - mean_squared_error: 0.0233 - val_loss: 0.0243 - val_mean_squared_error: 0.0243\n",
      "epoch:  141\n",
      "356/356 [==============================] - 5s 13ms/step - loss: 0.0232 - mean_squared_error: 0.0232 - val_loss: 0.0244 - val_mean_squared_error: 0.0244\n",
      "epoch:  142\n",
      "356/356 [==============================] - 5s 13ms/step - loss: 0.0232 - mean_squared_error: 0.0232 - val_loss: 0.0245 - val_mean_squared_error: 0.0245\n",
      "epoch:  143\n",
      "356/356 [==============================] - 5s 14ms/step - loss: 0.0232 - mean_squared_error: 0.0232 - val_loss: 0.0244 - val_mean_squared_error: 0.0244\n",
      "epoch:  144\n",
      "356/356 [==============================] - 5s 14ms/step - loss: 0.0232 - mean_squared_error: 0.0232 - val_loss: 0.0244 - val_mean_squared_error: 0.0244\n",
      "epoch:  145\n",
      "356/356 [==============================] - 5s 14ms/step - loss: 0.0232 - mean_squared_error: 0.0232 - val_loss: 0.0245 - val_mean_squared_error: 0.0245\n",
      "epoch:  146\n",
      "356/356 [==============================] - 5s 14ms/step - loss: 0.0232 - mean_squared_error: 0.0232 - val_loss: 0.0244 - val_mean_squared_error: 0.0244\n",
      "epoch:  147\n",
      "356/356 [==============================] - 5s 13ms/step - loss: 0.0231 - mean_squared_error: 0.0231 - val_loss: 0.0245 - val_mean_squared_error: 0.0245\n",
      "epoch:  148\n",
      "356/356 [==============================] - 5s 14ms/step - loss: 0.0231 - mean_squared_error: 0.0231 - val_loss: 0.0245 - val_mean_squared_error: 0.0245\n",
      "epoch:  149\n",
      "356/356 [==============================] - 5s 13ms/step - loss: 0.0231 - mean_squared_error: 0.0231 - val_loss: 0.0246 - val_mean_squared_error: 0.0246\n",
      "epoch:  150\n",
      "356/356 [==============================] - 5s 13ms/step - loss: 0.0231 - mean_squared_error: 0.0231 - val_loss: 0.0246 - val_mean_squared_error: 0.0246\n",
      "epoch:  151\n"
     ]
    },
    {
     "name": "stdout",
     "output_type": "stream",
     "text": [
      "356/356 [==============================] - 5s 14ms/step - loss: 0.0231 - mean_squared_error: 0.0231 - val_loss: 0.0245 - val_mean_squared_error: 0.0245\n",
      "epoch:  152\n",
      "356/356 [==============================] - 5s 14ms/step - loss: 0.0231 - mean_squared_error: 0.0231 - val_loss: 0.0247 - val_mean_squared_error: 0.0247\n",
      "epoch:  153\n",
      "356/356 [==============================] - 5s 13ms/step - loss: 0.0231 - mean_squared_error: 0.0231 - val_loss: 0.0245 - val_mean_squared_error: 0.0245\n",
      "epoch:  154\n",
      "356/356 [==============================] - 5s 13ms/step - loss: 0.0230 - mean_squared_error: 0.0230 - val_loss: 0.0245 - val_mean_squared_error: 0.0245\n",
      "epoch:  155\n",
      "356/356 [==============================] - 5s 13ms/step - loss: 0.0230 - mean_squared_error: 0.0230 - val_loss: 0.0243 - val_mean_squared_error: 0.0243\n",
      "epoch:  156\n",
      "356/356 [==============================] - 5s 13ms/step - loss: 0.0230 - mean_squared_error: 0.0230 - val_loss: 0.0246 - val_mean_squared_error: 0.0246\n",
      "epoch:  157\n",
      "356/356 [==============================] - 5s 13ms/step - loss: 0.0230 - mean_squared_error: 0.0230 - val_loss: 0.0246 - val_mean_squared_error: 0.0246\n",
      "epoch:  158\n",
      "356/356 [==============================] - 5s 13ms/step - loss: 0.0230 - mean_squared_error: 0.0230 - val_loss: 0.0245 - val_mean_squared_error: 0.0245\n",
      "epoch:  159\n",
      "356/356 [==============================] - 5s 14ms/step - loss: 0.0230 - mean_squared_error: 0.0230 - val_loss: 0.0246 - val_mean_squared_error: 0.0246\n",
      "epoch:  160\n",
      "356/356 [==============================] - 5s 14ms/step - loss: 0.0230 - mean_squared_error: 0.0230 - val_loss: 0.0246 - val_mean_squared_error: 0.0246\n",
      "epoch:  161\n",
      "356/356 [==============================] - 5s 14ms/step - loss: 0.0230 - mean_squared_error: 0.0230 - val_loss: 0.0246 - val_mean_squared_error: 0.0246\n",
      "epoch:  162\n",
      "356/356 [==============================] - 5s 13ms/step - loss: 0.0230 - mean_squared_error: 0.0230 - val_loss: 0.0245 - val_mean_squared_error: 0.0245\n",
      "epoch:  163\n",
      "356/356 [==============================] - 5s 14ms/step - loss: 0.0229 - mean_squared_error: 0.0229 - val_loss: 0.0245 - val_mean_squared_error: 0.0245\n",
      "epoch:  164\n",
      "356/356 [==============================] - 5s 14ms/step - loss: 0.0229 - mean_squared_error: 0.0229 - val_loss: 0.0246 - val_mean_squared_error: 0.0246\n",
      "epoch:  165\n",
      "356/356 [==============================] - 5s 13ms/step - loss: 0.0229 - mean_squared_error: 0.0229 - val_loss: 0.0244 - val_mean_squared_error: 0.0244\n",
      "epoch:  166\n",
      "356/356 [==============================] - 5s 13ms/step - loss: 0.0229 - mean_squared_error: 0.0229 - val_loss: 0.0245 - val_mean_squared_error: 0.0245\n",
      "epoch:  167\n",
      "356/356 [==============================] - 5s 13ms/step - loss: 0.0229 - mean_squared_error: 0.0229 - val_loss: 0.0246 - val_mean_squared_error: 0.0246\n",
      "epoch:  168\n",
      "356/356 [==============================] - 5s 14ms/step - loss: 0.0229 - mean_squared_error: 0.0229 - val_loss: 0.0248 - val_mean_squared_error: 0.0248\n",
      "epoch:  169\n",
      "356/356 [==============================] - 5s 14ms/step - loss: 0.0229 - mean_squared_error: 0.0229 - val_loss: 0.0247 - val_mean_squared_error: 0.0247\n",
      "epoch:  170\n",
      "356/356 [==============================] - 5s 13ms/step - loss: 0.0228 - mean_squared_error: 0.0228 - val_loss: 0.0248 - val_mean_squared_error: 0.0248\n",
      "epoch:  171\n",
      "356/356 [==============================] - 5s 13ms/step - loss: 0.0229 - mean_squared_error: 0.0229 - val_loss: 0.0248 - val_mean_squared_error: 0.0248\n",
      "epoch:  172\n",
      "356/356 [==============================] - 5s 14ms/step - loss: 0.0228 - mean_squared_error: 0.0228 - val_loss: 0.0245 - val_mean_squared_error: 0.0245\n",
      "epoch:  173\n",
      "356/356 [==============================] - 5s 14ms/step - loss: 0.0228 - mean_squared_error: 0.0228 - val_loss: 0.0246 - val_mean_squared_error: 0.0246\n",
      "epoch:  174\n",
      "356/356 [==============================] - 5s 14ms/step - loss: 0.0228 - mean_squared_error: 0.0228 - val_loss: 0.0246 - val_mean_squared_error: 0.0246\n",
      "epoch:  175\n",
      "356/356 [==============================] - 5s 13ms/step - loss: 0.0228 - mean_squared_error: 0.0228 - val_loss: 0.0245 - val_mean_squared_error: 0.0245\n",
      "epoch:  176\n",
      "356/356 [==============================] - 5s 14ms/step - loss: 0.0227 - mean_squared_error: 0.0227 - val_loss: 0.0246 - val_mean_squared_error: 0.0246\n",
      "epoch:  177\n",
      "356/356 [==============================] - 5s 14ms/step - loss: 0.0228 - mean_squared_error: 0.0228 - val_loss: 0.0247 - val_mean_squared_error: 0.0247\n",
      "epoch:  178\n",
      "356/356 [==============================] - 5s 14ms/step - loss: 0.0228 - mean_squared_error: 0.0228 - val_loss: 0.0246 - val_mean_squared_error: 0.0246\n",
      "epoch:  179\n",
      "356/356 [==============================] - 5s 14ms/step - loss: 0.0227 - mean_squared_error: 0.0227 - val_loss: 0.0245 - val_mean_squared_error: 0.0245\n",
      "epoch:  180\n",
      "356/356 [==============================] - 5s 13ms/step - loss: 0.0227 - mean_squared_error: 0.0227 - val_loss: 0.0246 - val_mean_squared_error: 0.0246\n",
      "epoch:  181\n",
      "356/356 [==============================] - 5s 14ms/step - loss: 0.0228 - mean_squared_error: 0.0228 - val_loss: 0.0245 - val_mean_squared_error: 0.0245\n",
      "epoch:  182\n",
      "356/356 [==============================] - 5s 14ms/step - loss: 0.0227 - mean_squared_error: 0.0227 - val_loss: 0.0246 - val_mean_squared_error: 0.0246\n",
      "epoch:  183\n",
      "356/356 [==============================] - 5s 13ms/step - loss: 0.0227 - mean_squared_error: 0.0227 - val_loss: 0.0247 - val_mean_squared_error: 0.0247\n",
      "epoch:  184\n",
      "356/356 [==============================] - 5s 13ms/step - loss: 0.0227 - mean_squared_error: 0.0227 - val_loss: 0.0245 - val_mean_squared_error: 0.0245\n",
      "epoch:  185\n",
      "356/356 [==============================] - 5s 14ms/step - loss: 0.0226 - mean_squared_error: 0.0226 - val_loss: 0.0246 - val_mean_squared_error: 0.0246\n",
      "epoch:  186\n",
      "356/356 [==============================] - 5s 13ms/step - loss: 0.0227 - mean_squared_error: 0.0227 - val_loss: 0.0244 - val_mean_squared_error: 0.0244\n",
      "epoch:  187\n",
      "356/356 [==============================] - 5s 13ms/step - loss: 0.0227 - mean_squared_error: 0.0227 - val_loss: 0.0244 - val_mean_squared_error: 0.0244\n",
      "epoch:  188\n",
      "356/356 [==============================] - 5s 13ms/step - loss: 0.0227 - mean_squared_error: 0.0227 - val_loss: 0.0246 - val_mean_squared_error: 0.0246\n",
      "epoch:  189\n",
      "356/356 [==============================] - 5s 13ms/step - loss: 0.0226 - mean_squared_error: 0.0226 - val_loss: 0.0246 - val_mean_squared_error: 0.0246\n",
      "epoch:  190\n",
      "356/356 [==============================] - 5s 13ms/step - loss: 0.0227 - mean_squared_error: 0.0227 - val_loss: 0.0247 - val_mean_squared_error: 0.0247\n",
      "epoch:  191\n",
      "356/356 [==============================] - 5s 14ms/step - loss: 0.0226 - mean_squared_error: 0.0226 - val_loss: 0.0246 - val_mean_squared_error: 0.0246\n",
      "epoch:  192\n",
      "356/356 [==============================] - 5s 14ms/step - loss: 0.0226 - mean_squared_error: 0.0226 - val_loss: 0.0247 - val_mean_squared_error: 0.0247\n",
      "epoch:  193\n",
      "356/356 [==============================] - 5s 14ms/step - loss: 0.0226 - mean_squared_error: 0.0226 - val_loss: 0.0246 - val_mean_squared_error: 0.0246\n",
      "epoch:  194\n",
      "356/356 [==============================] - 5s 14ms/step - loss: 0.0226 - mean_squared_error: 0.0226 - val_loss: 0.0245 - val_mean_squared_error: 0.0245\n",
      "epoch:  195\n",
      "356/356 [==============================] - 5s 14ms/step - loss: 0.0226 - mean_squared_error: 0.0226 - val_loss: 0.0246 - val_mean_squared_error: 0.0246\n",
      "epoch:  196\n",
      "356/356 [==============================] - 5s 13ms/step - loss: 0.0226 - mean_squared_error: 0.0226 - val_loss: 0.0246 - val_mean_squared_error: 0.0246\n",
      "epoch:  197\n",
      "356/356 [==============================] - 5s 14ms/step - loss: 0.0226 - mean_squared_error: 0.0226 - val_loss: 0.0247 - val_mean_squared_error: 0.0247\n",
      "epoch:  198\n",
      "356/356 [==============================] - 5s 13ms/step - loss: 0.0225 - mean_squared_error: 0.0225 - val_loss: 0.0247 - val_mean_squared_error: 0.0247\n",
      "epoch:  199\n",
      "356/356 [==============================] - 5s 14ms/step - loss: 0.0226 - mean_squared_error: 0.0226 - val_loss: 0.0246 - val_mean_squared_error: 0.0246\n",
      "epoch:  200\n",
      "356/356 [==============================] - 5s 14ms/step - loss: 0.0225 - mean_squared_error: 0.0225 - val_loss: 0.0246 - val_mean_squared_error: 0.0246\n"
     ]
    }
   ],
   "source": [
    "# fitting model with noisy data\n",
    "num_epochs=200\n",
    "loss=[]\n",
    "for epoch in range(num_epochs):\n",
    "    print('epoch: ',epoch+1)\n",
    "    train_x_noisy=add_noise(train_x_scaled,p=0.2)\n",
    "    model_train=full_model.fit(train_x_noisy,train_x_scaled,batch_size=32,epochs=1,callbacks=my_callbacks,verbose=1,\n",
    "                               validation_data=(val_x_scaled,val_x_scaled),shuffle=True)\n",
    "    loss.append(model_train.history['loss'])"
   ]
  },
  {
   "cell_type": "code",
   "execution_count": 39,
   "id": "2269d6a2",
   "metadata": {},
   "outputs": [
    {
     "data": {
      "image/png": "[encoded data removed]",
      "text/plain": [
       "<Figure size 432x288 with 1 Axes>"
      ]
     },
     "metadata": {
      "needs_background": "light"
     },
     "output_type": "display_data"
    }
   ],
   "source": [
    "plt.plot(loss)\n",
    "plt.ylabel('Average Error',fontsize=12)\n",
    "plt.xlabel('Epoch',fontsize=12)\n",
    "plt.savefig('./img/loss_noise1.png')\n",
    "plt.show()"
   ]
  },
  {
   "cell_type": "code",
   "execution_count": 40,
   "id": "0d46ca98",
   "metadata": {
    "scrolled": true
   },
   "outputs": [
    {
     "name": "stdout",
     "output_type": "stream",
     "text": [
      "356/356 [==============================] - 2s 6ms/step - loss: 0.0355 - mean_squared_error: 0.0355\n",
      "119/119 [==============================] - 1s 6ms/step - loss: 0.0367 - mean_squared_error: 0.0367\n",
      "119/119 [==============================] - 1s 6ms/step - loss: 0.0367 - mean_squared_error: 0.0367\n"
     ]
    }
   ],
   "source": [
    "# Average reconstruction error\n",
    "\n",
    "train_loss=full_model.evaluate(train_x_flat,train_x_scaled)[0]\n",
    "val_loss=full_model.evaluate(val_x_flat,val_x_scaled)[0]\n",
    "test_loss=full_model.evaluate(test_x_flat,test_x_scaled)[0]"
   ]
  },
  {
   "cell_type": "code",
   "execution_count": 41,
   "id": "4ae61540",
   "metadata": {},
   "outputs": [
    {
     "name": "stdout",
     "output_type": "stream",
     "text": [
      "356/356 [==============================] - 2s 6ms/step\n",
      "119/119 [==============================] - 1s 6ms/step\n",
      "119/119 [==============================] - 1s 6ms/step\n"
     ]
    }
   ],
   "source": [
    "train_out = full_model.predict(train_x_scaled)\n",
    "val_out = full_model.predict(val_x_scaled)\n",
    "test_out = full_model.predict(test_x_scaled)"
   ]
  },
  {
   "cell_type": "code",
   "execution_count": 42,
   "id": "b0212be3",
   "metadata": {},
   "outputs": [
    {
     "data": {
      "image/png": "[encoded data removed]",
      "text/plain": [
       "<Figure size 1440x288 with 5 Axes>"
      ]
     },
     "metadata": {
      "needs_background": "light"
     },
     "output_type": "display_data"
    },
    {
     "data": {
      "image/png": "[encoded data removed]",
      "text/plain": [
       "<Figure size 1440x288 with 5 Axes>"
      ]
     },
     "metadata": {
      "needs_background": "light"
     },
     "output_type": "display_data"
    },
    {
     "data": {
      "image/png": "[encoded data removed]",
      "text/plain": [
       "<Figure size 1440x288 with 5 Axes>"
      ]
     },
     "metadata": {
      "needs_background": "light"
     },
     "output_type": "display_data"
    }
   ],
   "source": [
    "fig,axes = plt.subplots(1,5,figsize=(20,4))\n",
    "for i,ax in enumerate(axes.flatten()):\n",
    "    j=2277*i\n",
    "    ax.imshow(train_x[j],cmap='gray')     # original image\n",
    "    ax.axis('off')\n",
    "fig.suptitle('Original Image',fontsize=14)\n",
    "plt.savefig('./img/org_noise1.png')\n",
    "plt.show()\n",
    "plt.close()\n",
    "\n",
    "fig,axes = plt.subplots(1,5,figsize=(20,4))\n",
    "for i,ax in enumerate(axes.flatten()):\n",
    "    j=2277*i\n",
    "    noisy=cv2.normalize(train_x_noisy[j].reshape(28,28),None,255,0,cv2.NORM_MINMAX,cv2.CV_8U)\n",
    "    ax.imshow(noisy,cmap='gray')    \n",
    "    ax.axis('off')\n",
    "fig.suptitle('Noisy Image',fontsize=14)\n",
    "plt.savefig('./img/noise_noise1.png')\n",
    "plt.show()\n",
    "plt.close()\n",
    "\n",
    "fig,axes = plt.subplots(1,5,figsize=(20,4))\n",
    "for i,ax in enumerate(axes.flatten()):\n",
    "    j=2277*i\n",
    "    recon = cv2.normalize(train_out[j].reshape(28,28),None,255,0,cv2.NORM_MINMAX,cv2.CV_8U)   # reconstructed image\n",
    "    ax.imshow(recon,cmap='gray')    \n",
    "    ax.axis('off')\n",
    "fig.suptitle('Reconstructed Image',fontsize=14)\n",
    "plt.savefig('./img/recon_noise1.png')\n",
    "plt.show()\n",
    "plt.close()"
   ]
  },
  {
   "cell_type": "code",
   "execution_count": 43,
   "id": "ebd9f1fb",
   "metadata": {},
   "outputs": [
    {
     "data": {
      "image/png": "[encoded data removed]",
      "text/plain": [
       "<Figure size 1440x288 with 5 Axes>"
      ]
     },
     "metadata": {
      "needs_background": "light"
     },
     "output_type": "display_data"
    },
    {
     "data": {
      "image/png": "[encoded data removed]",
      "text/plain": [
       "<Figure size 1440x288 with 5 Axes>"
      ]
     },
     "metadata": {
      "needs_background": "light"
     },
     "output_type": "display_data"
    }
   ],
   "source": [
    "fig,axes = plt.subplots(1,5,figsize=(20,4))\n",
    "for i,ax in enumerate(axes.flatten()):\n",
    "    j=759*i\n",
    "    ax.imshow(val_x[j],cmap='gray')     # original image\n",
    "    ax.axis('off')\n",
    "fig.suptitle('Original Image',fontsize=14)\n",
    "plt.savefig('./img/org_val_noise1.png')\n",
    "plt.show()\n",
    "plt.close()\n",
    "fig,axes = plt.subplots(1,5,figsize=(20,4))\n",
    "for i,ax in enumerate(axes.flatten()):\n",
    "    j=759*i\n",
    "    recon = cv2.normalize(val_out[j].reshape(28,28),None,255,0,cv2.NORM_MINMAX,cv2.CV_8U)   # reconstructed image\n",
    "    ax.imshow(recon,cmap='gray')    \n",
    "    ax.axis('off')\n",
    "fig.suptitle('Reconstructed Image',fontsize=14)\n",
    "plt.savefig('./img/recon_val_noise1.png')\n",
    "plt.show()\n",
    "plt.close()"
   ]
  },
  {
   "cell_type": "code",
   "execution_count": 44,
   "id": "958d6da2",
   "metadata": {},
   "outputs": [
    {
     "data": {
      "image/png": "[encoded data removed]",
      "text/plain": [
       "<Figure size 1440x288 with 5 Axes>"
      ]
     },
     "metadata": {
      "needs_background": "light"
     },
     "output_type": "display_data"
    },
    {
     "data": {
      "image/png": "[encoded data removed]",
      "text/plain": [
       "<Figure size 1440x288 with 5 Axes>"
      ]
     },
     "metadata": {
      "needs_background": "light"
     },
     "output_type": "display_data"
    }
   ],
   "source": [
    "fig,axes = plt.subplots(1,5,figsize=(20,4))\n",
    "for i,ax in enumerate(axes.flatten()):\n",
    "    j=759*i\n",
    "    ax.imshow(test_x[j],cmap='gray')     # original image\n",
    "    ax.axis('off')\n",
    "fig.suptitle('Original Image',fontsize=14)\n",
    "plt.savefig('./img/org_test_noise1.png')\n",
    "plt.show()\n",
    "plt.close()\n",
    "fig,axes = plt.subplots(1,5,figsize=(20,4))\n",
    "for i,ax in enumerate(axes.flatten()):\n",
    "    j=759*i\n",
    "    recon = cv2.normalize(test_out[j].reshape(28,28),None,255,0,cv2.NORM_MINMAX,cv2.CV_8U)   # reconstructed image\n",
    "    ax.imshow(recon,cmap='gray')    \n",
    "    ax.axis('off')\n",
    "fig.suptitle('Reconstructed Image',fontsize=14)\n",
    "plt.savefig('./img/256/recon_test_noise1.png')\n",
    "plt.show()\n",
    "plt.close()"
   ]
  },
  {
   "cell_type": "markdown",
   "id": "60265ada",
   "metadata": {},
   "source": [
    "## Training a FCNN using compressed represenatation"
   ]
  },
  {
   "cell_type": "code",
   "execution_count": 45,
   "id": "4f0705cc",
   "metadata": {},
   "outputs": [
    {
     "name": "stdout",
     "output_type": "stream",
     "text": [
      "356/356 [==============================] - 2s 5ms/step\n",
      "119/119 [==============================] - 1s 5ms/step\n",
      "119/119 [==============================] - 1s 5ms/step\n"
     ]
    }
   ],
   "source": [
    "# Getting compressed representation of train, validation and test data to further use to train FCNN\n",
    "\n",
    "encoded_train = encoder.predict([train_x_scaled])\n",
    "encoded_val = encoder.predict([val_x_scaled])\n",
    "encoded_test = encoder.predict([test_x_scaled])"
   ]
  },
  {
   "cell_type": "code",
   "execution_count": 46,
   "id": "aa6913c6",
   "metadata": {},
   "outputs": [],
   "source": [
    "# 3 layer FCNN with sigmoidal activation at hidden layers and softmax at output layer\n",
    "\n",
    "model1 = keras.Sequential([\n",
    "        Input(shape=(64,),name='input_layer'),\n",
    "        Dense(512,kernel_initializer=weights_ini,bias_initializer=bias_ini,activation=\"sigmoid\",name=\"hidden_layer_1\"),\n",
    "        Dense(256,kernel_initializer=weights_ini,bias_initializer=bias_ini,activation=\"sigmoid\",name=\"hidden_layer_2\"),\n",
    "        Dense(128,kernel_initializer=weights_ini,bias_initializer=bias_ini,activation=\"sigmoid\",name=\"hidden_layer_3\"),\n",
    "        Dense(5,kernel_initializer=weights_ini,bias_initializer=bias_ini,activation=\"softmax\",name=\"output_layer\")\n",
    "        ])"
   ]
  },
  {
   "cell_type": "code",
   "execution_count": 47,
   "id": "3785e9a2",
   "metadata": {},
   "outputs": [
    {
     "name": "stdout",
     "output_type": "stream",
     "text": [
      "Model: \"sequential\"\n",
      "_________________________________________________________________\n",
      " Layer (type)                Output Shape              Param #   \n",
      "=================================================================\n",
      " hidden_layer_1 (Dense)      (None, 512)               33280     \n",
      "                                                                 \n",
      " hidden_layer_2 (Dense)      (None, 256)               131328    \n",
      "                                                                 \n",
      " hidden_layer_3 (Dense)      (None, 128)               32896     \n",
      "                                                                 \n",
      " output_layer (Dense)        (None, 5)                 645       \n",
      "                                                                 \n",
      "=================================================================\n",
      "Total params: 198,149\n",
      "Trainable params: 198,149\n",
      "Non-trainable params: 0\n",
      "_________________________________________________________________\n"
     ]
    }
   ],
   "source": [
    "model1.summary()"
   ]
  },
  {
   "cell_type": "code",
   "execution_count": 48,
   "id": "7a920f25",
   "metadata": {},
   "outputs": [],
   "source": [
    "# Setting optimiser\n",
    "opt_Adam = keras.optimizers.Adam(learning_rate=0.001,beta_1=0.9,beta_2=0.999,epsilon=1e-08,name=\"Adam\")\n",
    "\n",
    "# compiling model\n",
    "model1.compile(optimizer=opt_Adam,loss=\"categorical_crossentropy\",metrics=[\"accuracy\"])\n",
    "\n",
    "# setting convergence criterion\n",
    "my_callbacks = EarlyStopping(monitor='loss',min_delta=0.00001,patience=10,verbose=1)"
   ]
  },
  {
   "cell_type": "code",
   "execution_count": 49,
   "id": "0b2a1b1c",
   "metadata": {},
   "outputs": [
    {
     "name": "stdout",
     "output_type": "stream",
     "text": [
      "Epoch 1/10000\n",
      "356/356 [==============================] - 10s 26ms/step - loss: 0.3683 - accuracy: 0.8902 - val_loss: 0.1962 - val_accuracy: 0.9375\n",
      "Epoch 2/10000\n",
      "356/356 [==============================] - 9s 26ms/step - loss: 0.1392 - accuracy: 0.9575 - val_loss: 0.1329 - val_accuracy: 0.9563\n",
      "Epoch 3/10000\n",
      "356/356 [==============================] - 9s 26ms/step - loss: 0.1104 - accuracy: 0.9652 - val_loss: 0.1270 - val_accuracy: 0.9594\n",
      "Epoch 4/10000\n",
      "356/356 [==============================] - 9s 26ms/step - loss: 0.0952 - accuracy: 0.9701 - val_loss: 0.1100 - val_accuracy: 0.9671\n",
      "Epoch 5/10000\n",
      "356/356 [==============================] - 9s 26ms/step - loss: 0.0879 - accuracy: 0.9727 - val_loss: 0.1016 - val_accuracy: 0.9689\n",
      "Epoch 6/10000\n",
      "356/356 [==============================] - 9s 26ms/step - loss: 0.0806 - accuracy: 0.9742 - val_loss: 0.1042 - val_accuracy: 0.9692\n",
      "Epoch 7/10000\n",
      "356/356 [==============================] - 9s 25ms/step - loss: 0.0722 - accuracy: 0.9763 - val_loss: 0.1025 - val_accuracy: 0.9665\n",
      "Epoch 8/10000\n",
      "356/356 [==============================] - 9s 25ms/step - loss: 0.0605 - accuracy: 0.9815 - val_loss: 0.1013 - val_accuracy: 0.9700\n",
      "Epoch 9/10000\n",
      "356/356 [==============================] - 10s 28ms/step - loss: 0.0591 - accuracy: 0.9801 - val_loss: 0.0833 - val_accuracy: 0.9710\n",
      "Epoch 10/10000\n",
      "356/356 [==============================] - 8s 22ms/step - loss: 0.0512 - accuracy: 0.9831 - val_loss: 0.0978 - val_accuracy: 0.9715\n",
      "Epoch 11/10000\n",
      "356/356 [==============================] - 9s 25ms/step - loss: 0.0496 - accuracy: 0.9838 - val_loss: 0.1037 - val_accuracy: 0.9665\n",
      "Epoch 12/10000\n",
      "356/356 [==============================] - 9s 24ms/step - loss: 0.0461 - accuracy: 0.9843 - val_loss: 0.0868 - val_accuracy: 0.9718\n",
      "Epoch 13/10000\n",
      "356/356 [==============================] - 9s 25ms/step - loss: 0.0389 - accuracy: 0.9867 - val_loss: 0.0918 - val_accuracy: 0.9689\n",
      "Epoch 14/10000\n",
      "356/356 [==============================] - 9s 24ms/step - loss: 0.0391 - accuracy: 0.9872 - val_loss: 0.0842 - val_accuracy: 0.9744\n",
      "Epoch 15/10000\n",
      "356/356 [==============================] - 9s 24ms/step - loss: 0.0326 - accuracy: 0.9898 - val_loss: 0.0930 - val_accuracy: 0.9731\n",
      "Epoch 16/10000\n",
      "356/356 [==============================] - 9s 24ms/step - loss: 0.0327 - accuracy: 0.9897 - val_loss: 0.0901 - val_accuracy: 0.9726\n",
      "Epoch 17/10000\n",
      "356/356 [==============================] - 8s 24ms/step - loss: 0.0334 - accuracy: 0.9884 - val_loss: 0.0966 - val_accuracy: 0.9689\n",
      "Epoch 18/10000\n",
      "356/356 [==============================] - 9s 24ms/step - loss: 0.0310 - accuracy: 0.9887 - val_loss: 0.0952 - val_accuracy: 0.9731\n",
      "Epoch 19/10000\n",
      "356/356 [==============================] - 8s 24ms/step - loss: 0.0224 - accuracy: 0.9928 - val_loss: 0.0970 - val_accuracy: 0.9726\n",
      "Epoch 20/10000\n",
      "356/356 [==============================] - 9s 25ms/step - loss: 0.0269 - accuracy: 0.9900 - val_loss: 0.0974 - val_accuracy: 0.9705\n",
      "Epoch 21/10000\n",
      "356/356 [==============================] - 9s 25ms/step - loss: 0.0230 - accuracy: 0.9924 - val_loss: 0.0957 - val_accuracy: 0.9744\n",
      "Epoch 22/10000\n",
      "356/356 [==============================] - 8s 23ms/step - loss: 0.0232 - accuracy: 0.9921 - val_loss: 0.0847 - val_accuracy: 0.9763\n",
      "Epoch 23/10000\n",
      "356/356 [==============================] - 8s 21ms/step - loss: 0.0162 - accuracy: 0.9950 - val_loss: 0.0979 - val_accuracy: 0.9736\n",
      "Epoch 24/10000\n",
      "356/356 [==============================] - 9s 24ms/step - loss: 0.0178 - accuracy: 0.9944 - val_loss: 0.0973 - val_accuracy: 0.9726\n",
      "Epoch 25/10000\n",
      "356/356 [==============================] - 9s 24ms/step - loss: 0.0209 - accuracy: 0.9935 - val_loss: 0.1113 - val_accuracy: 0.9681\n",
      "Epoch 26/10000\n",
      "356/356 [==============================] - 8s 23ms/step - loss: 0.0089 - accuracy: 0.9977 - val_loss: 0.1178 - val_accuracy: 0.9684\n",
      "Epoch 27/10000\n",
      "356/356 [==============================] - 8s 23ms/step - loss: 0.0146 - accuracy: 0.9952 - val_loss: 0.1006 - val_accuracy: 0.9742\n",
      "Epoch 28/10000\n",
      "356/356 [==============================] - 9s 27ms/step - loss: 0.0223 - accuracy: 0.9923 - val_loss: 0.1151 - val_accuracy: 0.9723\n",
      "Epoch 29/10000\n",
      "356/356 [==============================] - 9s 27ms/step - loss: 0.0125 - accuracy: 0.9960 - val_loss: 0.1046 - val_accuracy: 0.9731\n",
      "Epoch 30/10000\n",
      "356/356 [==============================] - 10s 29ms/step - loss: 0.0071 - accuracy: 0.9987 - val_loss: 0.0890 - val_accuracy: 0.9765\n",
      "Epoch 31/10000\n",
      "356/356 [==============================] - 8s 23ms/step - loss: 0.0126 - accuracy: 0.9957 - val_loss: 0.1242 - val_accuracy: 0.9684\n",
      "Epoch 32/10000\n",
      "356/356 [==============================] - 8s 23ms/step - loss: 0.0170 - accuracy: 0.9938 - val_loss: 0.0910 - val_accuracy: 0.9758\n",
      "Epoch 33/10000\n",
      "356/356 [==============================] - 8s 24ms/step - loss: 0.0071 - accuracy: 0.9979 - val_loss: 0.1108 - val_accuracy: 0.9726\n",
      "Epoch 34/10000\n",
      "356/356 [==============================] - 9s 24ms/step - loss: 0.0176 - accuracy: 0.9941 - val_loss: 0.1084 - val_accuracy: 0.9731\n",
      "Epoch 35/10000\n",
      "356/356 [==============================] - 8s 23ms/step - loss: 0.0118 - accuracy: 0.9961 - val_loss: 0.1333 - val_accuracy: 0.9689\n",
      "Epoch 36/10000\n",
      "356/356 [==============================] - 8s 23ms/step - loss: 0.0127 - accuracy: 0.9956 - val_loss: 0.1088 - val_accuracy: 0.9721\n",
      "Epoch 37/10000\n",
      "356/356 [==============================] - 8s 23ms/step - loss: 0.0021 - accuracy: 1.0000 - val_loss: 0.1017 - val_accuracy: 0.9736\n",
      "Epoch 38/10000\n",
      "356/356 [==============================] - 8s 23ms/step - loss: 7.8796e-04 - accuracy: 1.0000 - val_loss: 0.1068 - val_accuracy: 0.9750\n",
      "Epoch 39/10000\n",
      "356/356 [==============================] - 8s 23ms/step - loss: 6.6343e-04 - accuracy: 1.0000 - val_loss: 0.1020 - val_accuracy: 0.9742\n",
      "Epoch 40/10000\n",
      "356/356 [==============================] - 8s 23ms/step - loss: 5.6020e-04 - accuracy: 1.0000 - val_loss: 0.1003 - val_accuracy: 0.9747\n",
      "Epoch 41/10000\n",
      "356/356 [==============================] - 8s 23ms/step - loss: 0.0452 - accuracy: 0.9840 - val_loss: 0.1109 - val_accuracy: 0.9747\n",
      "Epoch 42/10000\n",
      "356/356 [==============================] - 8s 24ms/step - loss: 0.0192 - accuracy: 0.9932 - val_loss: 0.1020 - val_accuracy: 0.9726\n",
      "Epoch 43/10000\n",
      "356/356 [==============================] - 9s 25ms/step - loss: 0.0089 - accuracy: 0.9973 - val_loss: 0.1064 - val_accuracy: 0.9768\n",
      "Epoch 44/10000\n",
      "356/356 [==============================] - 8s 24ms/step - loss: 0.0043 - accuracy: 0.9990 - val_loss: 0.1096 - val_accuracy: 0.9742\n",
      "Epoch 45/10000\n",
      "356/356 [==============================] - 8s 24ms/step - loss: 0.0132 - accuracy: 0.9954 - val_loss: 0.1001 - val_accuracy: 0.9763\n",
      "Epoch 46/10000\n",
      "356/356 [==============================] - 8s 23ms/step - loss: 0.0079 - accuracy: 0.9975 - val_loss: 0.1035 - val_accuracy: 0.9765\n",
      "Epoch 47/10000\n",
      "356/356 [==============================] - 8s 23ms/step - loss: 0.0019 - accuracy: 0.9998 - val_loss: 0.0924 - val_accuracy: 0.9768\n",
      "Epoch 48/10000\n",
      "356/356 [==============================] - 8s 24ms/step - loss: 6.0861e-04 - accuracy: 1.0000 - val_loss: 0.0941 - val_accuracy: 0.9781\n",
      "Epoch 49/10000\n",
      "356/356 [==============================] - 9s 24ms/step - loss: 3.8530e-04 - accuracy: 1.0000 - val_loss: 0.0950 - val_accuracy: 0.9776\n",
      "Epoch 50/10000\n",
      "356/356 [==============================] - 8s 23ms/step - loss: 3.0202e-04 - accuracy: 1.0000 - val_loss: 0.0970 - val_accuracy: 0.9787\n",
      "Epoch 51/10000\n",
      "356/356 [==============================] - 8s 23ms/step - loss: 2.5689e-04 - accuracy: 1.0000 - val_loss: 0.0982 - val_accuracy: 0.9792\n",
      "Epoch 52/10000\n",
      "356/356 [==============================] - 8s 23ms/step - loss: 2.3723e-04 - accuracy: 1.0000 - val_loss: 0.1006 - val_accuracy: 0.9776\n",
      "Epoch 53/10000\n",
      "356/356 [==============================] - 8s 23ms/step - loss: 2.1787e-04 - accuracy: 1.0000 - val_loss: 0.1015 - val_accuracy: 0.9776\n",
      "Epoch 54/10000\n",
      "356/356 [==============================] - 8s 22ms/step - loss: 1.9531e-04 - accuracy: 1.0000 - val_loss: 0.1036 - val_accuracy: 0.9784\n",
      "Epoch 55/10000\n",
      "356/356 [==============================] - 8s 23ms/step - loss: 1.7348e-04 - accuracy: 1.0000 - val_loss: 0.1065 - val_accuracy: 0.9755\n",
      "Epoch 56/10000\n",
      "356/356 [==============================] - 8s 22ms/step - loss: 1.6090e-04 - accuracy: 1.0000 - val_loss: 0.1040 - val_accuracy: 0.9781\n",
      "Epoch 57/10000\n",
      "356/356 [==============================] - 8s 23ms/step - loss: 1.4273e-04 - accuracy: 1.0000 - val_loss: 0.1048 - val_accuracy: 0.9787\n",
      "Epoch 58/10000\n",
      "356/356 [==============================] - 8s 22ms/step - loss: 0.0353 - accuracy: 0.9895 - val_loss: 0.1295 - val_accuracy: 0.9639\n",
      "Epoch 59/10000\n",
      "356/356 [==============================] - 8s 23ms/step - loss: 0.0396 - accuracy: 0.9867 - val_loss: 0.1157 - val_accuracy: 0.9708\n",
      "Epoch 60/10000\n",
      "356/356 [==============================] - 8s 23ms/step - loss: 0.0222 - accuracy: 0.9920 - val_loss: 0.1196 - val_accuracy: 0.9700\n",
      "Epoch 61/10000\n",
      "356/356 [==============================] - 8s 23ms/step - loss: 0.0125 - accuracy: 0.9958 - val_loss: 0.0980 - val_accuracy: 0.9765\n",
      "Epoch 62/10000\n",
      "356/356 [==============================] - 8s 23ms/step - loss: 0.0025 - accuracy: 0.9997 - val_loss: 0.1044 - val_accuracy: 0.9781\n",
      "Epoch 63/10000\n",
      "356/356 [==============================] - 8s 23ms/step - loss: 7.4770e-04 - accuracy: 1.0000 - val_loss: 0.1041 - val_accuracy: 0.9773\n",
      "Epoch 64/10000\n",
      "356/356 [==============================] - 8s 22ms/step - loss: 4.8738e-04 - accuracy: 1.0000 - val_loss: 0.1066 - val_accuracy: 0.9773\n",
      "Epoch 65/10000\n",
      "356/356 [==============================] - 8s 23ms/step - loss: 3.6990e-04 - accuracy: 1.0000 - val_loss: 0.1097 - val_accuracy: 0.9760\n",
      "Epoch 66/10000\n",
      "356/356 [==============================] - 8s 23ms/step - loss: 3.0153e-04 - accuracy: 1.0000 - val_loss: 0.1089 - val_accuracy: 0.9755\n",
      "Epoch 67/10000\n",
      "356/356 [==============================] - 8s 22ms/step - loss: 2.7086e-04 - accuracy: 1.0000 - val_loss: 0.1128 - val_accuracy: 0.9763\n",
      "Epoch 67: early stopping\n"
     ]
    }
   ],
   "source": [
    "# fitting model\n",
    "FCNN1_train=model1.fit(encoded_train,train_y,batch_size=32,epochs=10000,callbacks=my_callbacks,verbose=\"auto\",\n",
    "                       validation_data=(encoded_val,val_y),shuffle=True)"
   ]
  },
  {
   "cell_type": "code",
   "execution_count": 51,
   "id": "0b570227",
   "metadata": {},
   "outputs": [
    {
     "data": {
      "image/png": "[encoded data removed]",
      "text/plain": [
       "<Figure size 432x288 with 1 Axes>"
      ]
     },
     "metadata": {
      "needs_background": "light"
     },
     "output_type": "display_data"
    }
   ],
   "source": [
    "# Average error plot on train data\n",
    "history = FCNN1_train.history\n",
    "\n",
    "import pickle\n",
    "with open('./models/history_FCNN1_noise1.pkl','wb') as f:\n",
    "    pickle.dump(history,f)\n",
    "\n",
    "plt.plot(history['loss'])\n",
    "plt.ylabel('Average Error',fontsize=12)\n",
    "plt.xlabel('Epoch',fontsize=12)\n",
    "plt.savefig('./models/loss1_noise1.png')\n",
    "plt.show()"
   ]
  },
  {
   "cell_type": "code",
   "execution_count": 52,
   "id": "37f370ea",
   "metadata": {},
   "outputs": [],
   "source": [
    "# saving model\n",
    "model1.save(\"./models/FCNN1_noise1.h5\")"
   ]
  },
  {
   "cell_type": "code",
   "execution_count": 53,
   "id": "243289ac",
   "metadata": {},
   "outputs": [
    {
     "name": "stdout",
     "output_type": "stream",
     "text": [
      "119/119 [==============================] - 1s 8ms/step - loss: 0.1128 - accuracy: 0.9763\n",
      "Validation loss: 0.11282646656036377 \t Validation accuracy: 0.9762845635414124\n"
     ]
    }
   ],
   "source": [
    "# Accuracy and loss on validation data\n",
    "val_loss,val_acc=model1.evaluate(encoded_val,val_y)\n",
    "\n",
    "print('Validation loss: {} \\t Validation accuracy: {}'.format(val_loss,val_acc))"
   ]
  },
  {
   "cell_type": "code",
   "execution_count": 54,
   "id": "bc826cc1",
   "metadata": {},
   "outputs": [],
   "source": [
    "# 4 layer FCNN with sigmoidal activation at hidden layers and softmax at output layer\n",
    "\n",
    "model2 = keras.Sequential([\n",
    "        Input(shape=(64,),name='input_layer'),\n",
    "        Dense(512,kernel_initializer=weights_ini,bias_initializer=bias_ini,activation=\"sigmoid\",name=\"hidden_layer_1\"),\n",
    "        Dense(256,kernel_initializer=weights_ini,bias_initializer=bias_ini,activation=\"sigmoid\",name=\"hidden_layer_2\"),\n",
    "        Dense(128,kernel_initializer=weights_ini,bias_initializer=bias_ini,activation=\"sigmoid\",name=\"hidden_layer_3\"),\n",
    "        Dense(64,kernel_initializer=weights_ini,bias_initializer=bias_ini,activation=\"sigmoid\",name=\"hidden_layer_4\"),\n",
    "        Dense(5,kernel_initializer=weights_ini,bias_initializer=bias_ini,activation=\"softmax\",name=\"output_layer\")\n",
    "        ])"
   ]
  },
  {
   "cell_type": "code",
   "execution_count": 55,
   "id": "1f54dbaa",
   "metadata": {},
   "outputs": [
    {
     "name": "stdout",
     "output_type": "stream",
     "text": [
      "Model: \"sequential_1\"\n",
      "_________________________________________________________________\n",
      " Layer (type)                Output Shape              Param #   \n",
      "=================================================================\n",
      " hidden_layer_1 (Dense)      (None, 512)               33280     \n",
      "                                                                 \n",
      " hidden_layer_2 (Dense)      (None, 256)               131328    \n",
      "                                                                 \n",
      " hidden_layer_3 (Dense)      (None, 128)               32896     \n",
      "                                                                 \n",
      " hidden_layer_4 (Dense)      (None, 64)                8256      \n",
      "                                                                 \n",
      " output_layer (Dense)        (None, 5)                 325       \n",
      "                                                                 \n",
      "=================================================================\n",
      "Total params: 206,085\n",
      "Trainable params: 206,085\n",
      "Non-trainable params: 0\n",
      "_________________________________________________________________\n"
     ]
    }
   ],
   "source": [
    "model2.summary()"
   ]
  },
  {
   "cell_type": "code",
   "execution_count": 56,
   "id": "f271cc14",
   "metadata": {},
   "outputs": [],
   "source": [
    "# Setting optimiser\n",
    "opt_Adam = keras.optimizers.Adam(learning_rate=0.001,beta_1=0.9,beta_2=0.999,epsilon=1e-08,name=\"Adam\")\n",
    "\n",
    "# compiling model\n",
    "model2.compile(optimizer=opt_Adam,loss=\"categorical_crossentropy\",metrics=[\"accuracy\"])\n",
    "\n",
    "# setting convergence criterion\n",
    "my_callbacks = EarlyStopping(monitor='loss',min_delta=0.0001,patience=10,verbose=1)"
   ]
  },
  {
   "cell_type": "code",
   "execution_count": 57,
   "id": "0af4ed9b",
   "metadata": {},
   "outputs": [
    {
     "name": "stdout",
     "output_type": "stream",
     "text": [
      "Epoch 1/10000\n",
      "356/356 [==============================] - 6s 15ms/step - loss: 0.3701 - accuracy: 0.8938 - val_loss: 0.1497 - val_accuracy: 0.9563\n",
      "Epoch 2/10000\n",
      "356/356 [==============================] - 6s 17ms/step - loss: 0.1443 - accuracy: 0.9570 - val_loss: 0.1350 - val_accuracy: 0.9605\n",
      "Epoch 3/10000\n",
      "356/356 [==============================] - 6s 17ms/step - loss: 0.1206 - accuracy: 0.9612 - val_loss: 0.1576 - val_accuracy: 0.9528\n",
      "Epoch 4/10000\n",
      "356/356 [==============================] - 6s 16ms/step - loss: 0.0975 - accuracy: 0.9710 - val_loss: 0.1029 - val_accuracy: 0.9679\n",
      "Epoch 5/10000\n",
      "356/356 [==============================] - 6s 18ms/step - loss: 0.0885 - accuracy: 0.9723 - val_loss: 0.1083 - val_accuracy: 0.9671\n",
      "Epoch 6/10000\n",
      "356/356 [==============================] - 4s 12ms/step - loss: 0.0801 - accuracy: 0.9745 - val_loss: 0.0947 - val_accuracy: 0.9684\n",
      "Epoch 7/10000\n",
      "356/356 [==============================] - 6s 16ms/step - loss: 0.0763 - accuracy: 0.9762 - val_loss: 0.1030 - val_accuracy: 0.9671\n",
      "Epoch 8/10000\n",
      "356/356 [==============================] - 6s 17ms/step - loss: 0.0666 - accuracy: 0.9788 - val_loss: 0.1193 - val_accuracy: 0.9636\n",
      "Epoch 9/10000\n",
      "356/356 [==============================] - 6s 16ms/step - loss: 0.0621 - accuracy: 0.9799 - val_loss: 0.0946 - val_accuracy: 0.9694\n",
      "Epoch 10/10000\n",
      "356/356 [==============================] - 4s 12ms/step - loss: 0.0577 - accuracy: 0.9817 - val_loss: 0.0934 - val_accuracy: 0.9708\n",
      "Epoch 11/10000\n",
      "356/356 [==============================] - 5s 14ms/step - loss: 0.0529 - accuracy: 0.9830 - val_loss: 0.0874 - val_accuracy: 0.9742\n",
      "Epoch 12/10000\n",
      "356/356 [==============================] - 5s 14ms/step - loss: 0.0469 - accuracy: 0.9851 - val_loss: 0.0911 - val_accuracy: 0.9721\n",
      "Epoch 13/10000\n",
      "356/356 [==============================] - 6s 17ms/step - loss: 0.0427 - accuracy: 0.9851 - val_loss: 0.0948 - val_accuracy: 0.9736\n",
      "Epoch 14/10000\n",
      "356/356 [==============================] - 6s 17ms/step - loss: 0.0408 - accuracy: 0.9854 - val_loss: 0.1096 - val_accuracy: 0.9665\n",
      "Epoch 15/10000\n",
      "356/356 [==============================] - 6s 16ms/step - loss: 0.0396 - accuracy: 0.9865 - val_loss: 0.1001 - val_accuracy: 0.9694\n",
      "Epoch 16/10000\n",
      "356/356 [==============================] - 5s 15ms/step - loss: 0.0338 - accuracy: 0.9880 - val_loss: 0.1037 - val_accuracy: 0.9723\n",
      "Epoch 17/10000\n",
      "356/356 [==============================] - 5s 15ms/step - loss: 0.0302 - accuracy: 0.9903 - val_loss: 0.0846 - val_accuracy: 0.9742\n",
      "Epoch 18/10000\n",
      "356/356 [==============================] - 6s 16ms/step - loss: 0.0365 - accuracy: 0.9872 - val_loss: 0.0836 - val_accuracy: 0.9734\n",
      "Epoch 19/10000\n",
      "356/356 [==============================] - 6s 16ms/step - loss: 0.0240 - accuracy: 0.9914 - val_loss: 0.1008 - val_accuracy: 0.9721\n",
      "Epoch 20/10000\n",
      "356/356 [==============================] - 5s 15ms/step - loss: 0.0223 - accuracy: 0.9928 - val_loss: 0.0923 - val_accuracy: 0.9750\n",
      "Epoch 21/10000\n",
      "356/356 [==============================] - 5s 13ms/step - loss: 0.0335 - accuracy: 0.9887 - val_loss: 0.0996 - val_accuracy: 0.9715\n",
      "Epoch 22/10000\n",
      "356/356 [==============================] - 5s 14ms/step - loss: 0.0232 - accuracy: 0.9919 - val_loss: 0.1202 - val_accuracy: 0.9676\n",
      "Epoch 23/10000\n",
      "356/356 [==============================] - 6s 16ms/step - loss: 0.0259 - accuracy: 0.9912 - val_loss: 0.0999 - val_accuracy: 0.9726\n",
      "Epoch 24/10000\n",
      "356/356 [==============================] - 6s 15ms/step - loss: 0.0165 - accuracy: 0.9946 - val_loss: 0.1044 - val_accuracy: 0.9731\n",
      "Epoch 25/10000\n",
      "356/356 [==============================] - 4s 12ms/step - loss: 0.0282 - accuracy: 0.9901 - val_loss: 0.1008 - val_accuracy: 0.9729\n",
      "Epoch 26/10000\n",
      "356/356 [==============================] - 6s 17ms/step - loss: 0.0145 - accuracy: 0.9944 - val_loss: 0.0992 - val_accuracy: 0.9721\n",
      "Epoch 27/10000\n",
      "356/356 [==============================] - 6s 17ms/step - loss: 0.0253 - accuracy: 0.9904 - val_loss: 0.0994 - val_accuracy: 0.9739\n",
      "Epoch 28/10000\n",
      "356/356 [==============================] - 6s 17ms/step - loss: 0.0108 - accuracy: 0.9961 - val_loss: 0.1047 - val_accuracy: 0.9736\n",
      "Epoch 29/10000\n",
      "356/356 [==============================] - 5s 14ms/step - loss: 0.0080 - accuracy: 0.9965 - val_loss: 0.1063 - val_accuracy: 0.9713\n",
      "Epoch 30/10000\n",
      "356/356 [==============================] - 5s 13ms/step - loss: 0.0216 - accuracy: 0.9926 - val_loss: 0.1574 - val_accuracy: 0.9621\n",
      "Epoch 31/10000\n",
      "356/356 [==============================] - 6s 15ms/step - loss: 0.0227 - accuracy: 0.9910 - val_loss: 0.1052 - val_accuracy: 0.9718\n",
      "Epoch 32/10000\n",
      "356/356 [==============================] - 5s 13ms/step - loss: 0.0075 - accuracy: 0.9978 - val_loss: 0.1088 - val_accuracy: 0.9760\n",
      "Epoch 33/10000\n",
      "356/356 [==============================] - 5s 13ms/step - loss: 0.0218 - accuracy: 0.9927 - val_loss: 0.1383 - val_accuracy: 0.9671\n",
      "Epoch 34/10000\n",
      "356/356 [==============================] - 5s 14ms/step - loss: 0.0158 - accuracy: 0.9944 - val_loss: 0.1257 - val_accuracy: 0.9647\n",
      "Epoch 35/10000\n",
      "356/356 [==============================] - 6s 17ms/step - loss: 0.0113 - accuracy: 0.9959 - val_loss: 0.1216 - val_accuracy: 0.9739\n",
      "Epoch 36/10000\n",
      "356/356 [==============================] - 6s 18ms/step - loss: 0.0064 - accuracy: 0.9980 - val_loss: 0.1072 - val_accuracy: 0.9750\n",
      "Epoch 37/10000\n",
      "356/356 [==============================] - 7s 18ms/step - loss: 0.0063 - accuracy: 0.9982 - val_loss: 0.1676 - val_accuracy: 0.9563\n",
      "Epoch 38/10000\n",
      "356/356 [==============================] - 7s 19ms/step - loss: 0.0245 - accuracy: 0.9911 - val_loss: 0.0983 - val_accuracy: 0.9734\n",
      "Epoch 39/10000\n",
      "356/356 [==============================] - 7s 19ms/step - loss: 0.0084 - accuracy: 0.9975 - val_loss: 0.1166 - val_accuracy: 0.9729\n",
      "Epoch 40/10000\n",
      "356/356 [==============================] - 7s 19ms/step - loss: 0.0051 - accuracy: 0.9986 - val_loss: 0.1051 - val_accuracy: 0.9742\n",
      "Epoch 41/10000\n",
      "356/356 [==============================] - 7s 19ms/step - loss: 7.3690e-04 - accuracy: 1.0000 - val_loss: 0.1059 - val_accuracy: 0.9752\n",
      "Epoch 42/10000\n",
      "356/356 [==============================] - 7s 19ms/step - loss: 5.3562e-04 - accuracy: 1.0000 - val_loss: 0.1090 - val_accuracy: 0.9750\n",
      "Epoch 43/10000\n",
      "356/356 [==============================] - 6s 16ms/step - loss: 3.5753e-04 - accuracy: 1.0000 - val_loss: 0.1116 - val_accuracy: 0.9758\n",
      "Epoch 44/10000\n",
      "356/356 [==============================] - 6s 17ms/step - loss: 3.3822e-04 - accuracy: 1.0000 - val_loss: 0.1143 - val_accuracy: 0.9744\n",
      "Epoch 45/10000\n",
      "356/356 [==============================] - 6s 16ms/step - loss: 0.0259 - accuracy: 0.9924 - val_loss: 0.1953 - val_accuracy: 0.9412\n",
      "Epoch 46/10000\n",
      "356/356 [==============================] - 7s 19ms/step - loss: 0.0457 - accuracy: 0.9847 - val_loss: 0.1124 - val_accuracy: 0.9684\n",
      "Epoch 47/10000\n",
      "356/356 [==============================] - 7s 20ms/step - loss: 0.0153 - accuracy: 0.9945 - val_loss: 0.1000 - val_accuracy: 0.9742\n",
      "Epoch 48/10000\n",
      "356/356 [==============================] - 6s 17ms/step - loss: 0.0189 - accuracy: 0.9937 - val_loss: 0.1248 - val_accuracy: 0.9689\n",
      "Epoch 49/10000\n",
      "356/356 [==============================] - 6s 18ms/step - loss: 0.0161 - accuracy: 0.9940 - val_loss: 0.1126 - val_accuracy: 0.9736\n",
      "Epoch 50/10000\n",
      "356/356 [==============================] - 6s 17ms/step - loss: 0.0035 - accuracy: 0.9992 - val_loss: 0.1197 - val_accuracy: 0.9758\n",
      "Epoch 51/10000\n",
      "356/356 [==============================] - 7s 18ms/step - loss: 0.0010 - accuracy: 1.0000 - val_loss: 0.1238 - val_accuracy: 0.9752\n",
      "Epoch 52/10000\n",
      "356/356 [==============================] - 5s 15ms/step - loss: 4.7183e-04 - accuracy: 1.0000 - val_loss: 0.1177 - val_accuracy: 0.9752\n",
      "Epoch 53/10000\n",
      "356/356 [==============================] - 5s 14ms/step - loss: 3.2645e-04 - accuracy: 1.0000 - val_loss: 0.1202 - val_accuracy: 0.9755\n",
      "Epoch 53: early stopping\n"
     ]
    }
   ],
   "source": [
    "# fitting model\n",
    "FCNN2_train=model2.fit(encoded_train,train_y,batch_size=32,epochs=10000,callbacks=my_callbacks,verbose=\"auto\",\n",
    "         validation_data=(encoded_val,val_y),shuffle=True)"
   ]
  },
  {
   "cell_type": "code",
   "execution_count": 58,
   "id": "70d468b8",
   "metadata": {},
   "outputs": [
    {
     "data": {
      "image/png": "[encoded data removed]",
      "text/plain": [
       "<Figure size 432x288 with 1 Axes>"
      ]
     },
     "metadata": {
      "needs_background": "light"
     },
     "output_type": "display_data"
    }
   ],
   "source": [
    "# Average error plot on train data\n",
    "history = FCNN2_train.history\n",
    "import pickle\n",
    "with open('./models/history_FCNN2_noise1.pkl','wb') as f:\n",
    "    pickle.dump(history,f)\n",
    "\n",
    "plt.plot(history['loss'])\n",
    "plt.ylabel('Average Error',fontsize=12)\n",
    "plt.xlabel('Epoch',fontsize=12)\n",
    "plt.savefig('./models/loss2_noise1.png')\n",
    "plt.show()"
   ]
  },
  {
   "cell_type": "code",
   "execution_count": 59,
   "id": "4aa87ec6",
   "metadata": {},
   "outputs": [],
   "source": [
    "# saving model\n",
    "model2.save(\"./models/FCNN2_noise1.h5\")"
   ]
  },
  {
   "cell_type": "code",
   "execution_count": 60,
   "id": "a4c21672",
   "metadata": {},
   "outputs": [
    {
     "name": "stdout",
     "output_type": "stream",
     "text": [
      "119/119 [==============================] - 1s 7ms/step - loss: 0.1202 - accuracy: 0.9755\n",
      "Validation loss: 0.12020790576934814 \t Validation accuracy: 0.9754940867424011\n"
     ]
    }
   ],
   "source": [
    "# Accuracy and loss on validation data\n",
    "val_loss,val_acc=model2.evaluate(encoded_val,val_y)\n",
    "print('Validation loss: {} \\t Validation accuracy: {}'.format(val_loss,val_acc))"
   ]
  },
  {
   "cell_type": "code",
   "execution_count": 61,
   "id": "8392de67",
   "metadata": {},
   "outputs": [],
   "source": [
    "# 5 layer FCNN with sigmoidal activation at hidden layers and softmax at output layer\n",
    "\n",
    "model3 = keras.Sequential([\n",
    "        Input(shape=(64,),name='input_layer'),\n",
    "        Dense(512,kernel_initializer=weights_ini,bias_initializer=bias_ini,activation=\"sigmoid\",name=\"hidden_layer_1\"),\n",
    "        Dense(256,kernel_initializer=weights_ini,bias_initializer=bias_ini,activation=\"sigmoid\",name=\"hidden_layer_2\"),\n",
    "        Dense(128,kernel_initializer=weights_ini,bias_initializer=bias_ini,activation=\"sigmoid\",name=\"hidden_layer_3\"),\n",
    "        Dense(64,kernel_initializer=weights_ini,bias_initializer=bias_ini,activation=\"sigmoid\",name=\"hidden_layer_4\"),\n",
    "        Dense(32,kernel_initializer=weights_ini,bias_initializer=bias_ini,activation=\"sigmoid\",name=\"hidden_layer_5\"),\n",
    "        Dense(5,kernel_initializer=weights_ini,bias_initializer=bias_ini,activation=\"softmax\",name=\"output_layer\")\n",
    "        ])"
   ]
  },
  {
   "cell_type": "code",
   "execution_count": 62,
   "id": "d0075ee4",
   "metadata": {},
   "outputs": [
    {
     "name": "stdout",
     "output_type": "stream",
     "text": [
      "Model: \"sequential_2\"\n",
      "_________________________________________________________________\n",
      " Layer (type)                Output Shape              Param #   \n",
      "=================================================================\n",
      " hidden_layer_1 (Dense)      (None, 512)               33280     \n",
      "                                                                 \n",
      " hidden_layer_2 (Dense)      (None, 256)               131328    \n",
      "                                                                 \n",
      " hidden_layer_3 (Dense)      (None, 128)               32896     \n",
      "                                                                 \n",
      " hidden_layer_4 (Dense)      (None, 64)                8256      \n",
      "                                                                 \n",
      " hidden_layer_5 (Dense)      (None, 32)                2080      \n",
      "                                                                 \n",
      " output_layer (Dense)        (None, 5)                 165       \n",
      "                                                                 \n",
      "=================================================================\n",
      "Total params: 208,005\n",
      "Trainable params: 208,005\n",
      "Non-trainable params: 0\n",
      "_________________________________________________________________\n"
     ]
    }
   ],
   "source": [
    "model3.summary()"
   ]
  },
  {
   "cell_type": "code",
   "execution_count": 63,
   "id": "8529d95f",
   "metadata": {},
   "outputs": [],
   "source": [
    "# Setting optimiser\n",
    "opt_Adam = keras.optimizers.Adam(learning_rate=0.001,beta_1=0.9,beta_2=0.999,epsilon=1e-08,name=\"Adam\")\n",
    "\n",
    "# compiling model\n",
    "model3.compile(optimizer=opt_Adam,loss=\"categorical_crossentropy\",metrics=[\"accuracy\"])\n",
    "\n",
    "# setting convergence criterion\n",
    "my_callbacks = EarlyStopping(monitor='loss',min_delta=0.0001,patience=10,verbose=1)"
   ]
  },
  {
   "cell_type": "code",
   "execution_count": 64,
   "id": "0861c079",
   "metadata": {},
   "outputs": [
    {
     "name": "stdout",
     "output_type": "stream",
     "text": [
      "Epoch 1/10000\n",
      "356/356 [==============================] - 7s 18ms/step - loss: 0.4477 - accuracy: 0.8836 - val_loss: 0.2221 - val_accuracy: 0.9347\n",
      "Epoch 2/10000\n",
      "356/356 [==============================] - 7s 19ms/step - loss: 0.1552 - accuracy: 0.9564 - val_loss: 0.1388 - val_accuracy: 0.9589\n",
      "Epoch 3/10000\n",
      "356/356 [==============================] - 7s 19ms/step - loss: 0.1224 - accuracy: 0.9635 - val_loss: 0.1406 - val_accuracy: 0.9602\n",
      "Epoch 4/10000\n",
      "356/356 [==============================] - 7s 20ms/step - loss: 0.1096 - accuracy: 0.9663 - val_loss: 0.1234 - val_accuracy: 0.9631\n",
      "Epoch 5/10000\n",
      "356/356 [==============================] - 7s 19ms/step - loss: 0.0966 - accuracy: 0.9705 - val_loss: 0.1289 - val_accuracy: 0.9599\n",
      "Epoch 6/10000\n",
      "356/356 [==============================] - 7s 18ms/step - loss: 0.0841 - accuracy: 0.9734 - val_loss: 0.1002 - val_accuracy: 0.9681\n",
      "Epoch 7/10000\n",
      "356/356 [==============================] - 7s 19ms/step - loss: 0.0802 - accuracy: 0.9744 - val_loss: 0.1063 - val_accuracy: 0.9681\n",
      "Epoch 8/10000\n",
      "356/356 [==============================] - 7s 19ms/step - loss: 0.0673 - accuracy: 0.9801 - val_loss: 0.0990 - val_accuracy: 0.9729\n",
      "Epoch 9/10000\n",
      "356/356 [==============================] - 6s 17ms/step - loss: 0.0617 - accuracy: 0.9816 - val_loss: 0.0945 - val_accuracy: 0.9702\n",
      "Epoch 10/10000\n",
      "356/356 [==============================] - 6s 16ms/step - loss: 0.0600 - accuracy: 0.9816 - val_loss: 0.0989 - val_accuracy: 0.9689\n",
      "Epoch 11/10000\n",
      "356/356 [==============================] - 7s 18ms/step - loss: 0.0569 - accuracy: 0.9823 - val_loss: 0.1111 - val_accuracy: 0.9679\n",
      "Epoch 12/10000\n",
      "356/356 [==============================] - 6s 18ms/step - loss: 0.0559 - accuracy: 0.9820 - val_loss: 0.1118 - val_accuracy: 0.9671\n",
      "Epoch 13/10000\n",
      "356/356 [==============================] - 6s 16ms/step - loss: 0.0514 - accuracy: 0.9837 - val_loss: 0.1082 - val_accuracy: 0.9721\n",
      "Epoch 14/10000\n",
      "356/356 [==============================] - 5s 15ms/step - loss: 0.0422 - accuracy: 0.9870 - val_loss: 0.1067 - val_accuracy: 0.9668\n",
      "Epoch 15/10000\n",
      "356/356 [==============================] - 7s 18ms/step - loss: 0.0413 - accuracy: 0.9863 - val_loss: 0.1054 - val_accuracy: 0.9692\n",
      "Epoch 16/10000\n",
      "356/356 [==============================] - 7s 19ms/step - loss: 0.0421 - accuracy: 0.9862 - val_loss: 0.1073 - val_accuracy: 0.9700\n",
      "Epoch 17/10000\n",
      "356/356 [==============================] - 7s 19ms/step - loss: 0.0407 - accuracy: 0.9881 - val_loss: 0.1064 - val_accuracy: 0.9715\n",
      "Epoch 18/10000\n",
      "356/356 [==============================] - 7s 18ms/step - loss: 0.0329 - accuracy: 0.9899 - val_loss: 0.0982 - val_accuracy: 0.9723\n",
      "Epoch 19/10000\n",
      "356/356 [==============================] - 6s 18ms/step - loss: 0.0373 - accuracy: 0.9878 - val_loss: 0.0955 - val_accuracy: 0.9718\n",
      "Epoch 20/10000\n",
      "356/356 [==============================] - 6s 17ms/step - loss: 0.0256 - accuracy: 0.9919 - val_loss: 0.1004 - val_accuracy: 0.9718\n",
      "Epoch 21/10000\n",
      "356/356 [==============================] - 5s 14ms/step - loss: 0.0341 - accuracy: 0.9879 - val_loss: 0.1016 - val_accuracy: 0.9721\n",
      "Epoch 22/10000\n",
      "356/356 [==============================] - 6s 18ms/step - loss: 0.0271 - accuracy: 0.9919 - val_loss: 0.1259 - val_accuracy: 0.9679\n",
      "Epoch 23/10000\n",
      "356/356 [==============================] - 7s 19ms/step - loss: 0.0298 - accuracy: 0.9907 - val_loss: 0.1385 - val_accuracy: 0.9634\n",
      "Epoch 24/10000\n",
      "356/356 [==============================] - 6s 18ms/step - loss: 0.0258 - accuracy: 0.9924 - val_loss: 0.0933 - val_accuracy: 0.9768\n",
      "Epoch 25/10000\n",
      "356/356 [==============================] - 7s 19ms/step - loss: 0.0288 - accuracy: 0.9907 - val_loss: 0.1227 - val_accuracy: 0.9668\n",
      "Epoch 26/10000\n",
      "356/356 [==============================] - 5s 15ms/step - loss: 0.0326 - accuracy: 0.9893 - val_loss: 0.1003 - val_accuracy: 0.9736\n",
      "Epoch 27/10000\n",
      "356/356 [==============================] - 6s 16ms/step - loss: 0.0141 - accuracy: 0.9953 - val_loss: 0.0978 - val_accuracy: 0.9736\n",
      "Epoch 28/10000\n",
      "356/356 [==============================] - 6s 17ms/step - loss: 0.0244 - accuracy: 0.9912 - val_loss: 0.1133 - val_accuracy: 0.9726\n",
      "Epoch 29/10000\n",
      "356/356 [==============================] - 6s 18ms/step - loss: 0.0206 - accuracy: 0.9924 - val_loss: 0.1381 - val_accuracy: 0.9639\n",
      "Epoch 30/10000\n",
      "356/356 [==============================] - 6s 16ms/step - loss: 0.0207 - accuracy: 0.9933 - val_loss: 0.1246 - val_accuracy: 0.9705\n",
      "Epoch 31/10000\n",
      "356/356 [==============================] - 6s 17ms/step - loss: 0.0177 - accuracy: 0.9939 - val_loss: 0.1192 - val_accuracy: 0.9715\n",
      "Epoch 32/10000\n",
      "356/356 [==============================] - 6s 17ms/step - loss: 0.0197 - accuracy: 0.9933 - val_loss: 0.1351 - val_accuracy: 0.9657\n",
      "Epoch 33/10000\n",
      "356/356 [==============================] - 5s 15ms/step - loss: 0.0163 - accuracy: 0.9952 - val_loss: 0.1065 - val_accuracy: 0.9723\n",
      "Epoch 34/10000\n",
      "356/356 [==============================] - 7s 19ms/step - loss: 0.0164 - accuracy: 0.9944 - val_loss: 0.1248 - val_accuracy: 0.9708\n",
      "Epoch 35/10000\n",
      "356/356 [==============================] - 6s 17ms/step - loss: 0.0216 - accuracy: 0.9924 - val_loss: 0.1051 - val_accuracy: 0.9739\n",
      "Epoch 36/10000\n",
      "356/356 [==============================] - 6s 16ms/step - loss: 0.0136 - accuracy: 0.9954 - val_loss: 0.1202 - val_accuracy: 0.9726\n",
      "Epoch 37/10000\n",
      "356/356 [==============================] - 7s 19ms/step - loss: 0.0147 - accuracy: 0.9955 - val_loss: 0.1226 - val_accuracy: 0.9718\n",
      "Epoch 38/10000\n",
      "356/356 [==============================] - 6s 17ms/step - loss: 0.0245 - accuracy: 0.9916 - val_loss: 0.1219 - val_accuracy: 0.9710\n",
      "Epoch 39/10000\n",
      "356/356 [==============================] - 5s 15ms/step - loss: 0.0119 - accuracy: 0.9958 - val_loss: 0.1095 - val_accuracy: 0.9739\n",
      "Epoch 40/10000\n",
      "356/356 [==============================] - 5s 15ms/step - loss: 0.0170 - accuracy: 0.9941 - val_loss: 0.1010 - val_accuracy: 0.9744\n",
      "Epoch 41/10000\n",
      "356/356 [==============================] - 5s 15ms/step - loss: 0.0084 - accuracy: 0.9977 - val_loss: 0.1147 - val_accuracy: 0.9739\n",
      "Epoch 42/10000\n",
      "356/356 [==============================] - 5s 15ms/step - loss: 0.0214 - accuracy: 0.9923 - val_loss: 0.1337 - val_accuracy: 0.9647\n",
      "Epoch 43/10000\n",
      "356/356 [==============================] - 6s 18ms/step - loss: 0.0125 - accuracy: 0.9953 - val_loss: 0.1179 - val_accuracy: 0.9742\n",
      "Epoch 44/10000\n",
      "356/356 [==============================] - 6s 18ms/step - loss: 0.0080 - accuracy: 0.9976 - val_loss: 0.1517 - val_accuracy: 0.9673\n",
      "Epoch 45/10000\n",
      "356/356 [==============================] - 5s 15ms/step - loss: 0.0295 - accuracy: 0.9893 - val_loss: 0.1296 - val_accuracy: 0.9723\n",
      "Epoch 46/10000\n",
      "356/356 [==============================] - 5s 14ms/step - loss: 0.0070 - accuracy: 0.9980 - val_loss: 0.1116 - val_accuracy: 0.9731\n",
      "Epoch 47/10000\n",
      "356/356 [==============================] - 5s 15ms/step - loss: 0.0020 - accuracy: 0.9995 - val_loss: 0.1349 - val_accuracy: 0.9710\n",
      "Epoch 48/10000\n",
      "356/356 [==============================] - 6s 17ms/step - loss: 0.0213 - accuracy: 0.9924 - val_loss: 0.1077 - val_accuracy: 0.9758\n",
      "Epoch 49/10000\n",
      "356/356 [==============================] - 6s 16ms/step - loss: 0.0132 - accuracy: 0.9954 - val_loss: 0.1081 - val_accuracy: 0.9729\n",
      "Epoch 50/10000\n",
      "356/356 [==============================] - 6s 16ms/step - loss: 0.0027 - accuracy: 0.9996 - val_loss: 0.1165 - val_accuracy: 0.9760\n",
      "Epoch 51/10000\n",
      "356/356 [==============================] - 6s 18ms/step - loss: 0.0026 - accuracy: 0.9995 - val_loss: 0.1268 - val_accuracy: 0.9752\n",
      "Epoch 52/10000\n",
      "356/356 [==============================] - 5s 15ms/step - loss: 0.0387 - accuracy: 0.9887 - val_loss: 0.0996 - val_accuracy: 0.9755\n",
      "Epoch 53/10000\n",
      "356/356 [==============================] - 5s 13ms/step - loss: 0.0071 - accuracy: 0.9981 - val_loss: 0.1164 - val_accuracy: 0.9734\n",
      "Epoch 54/10000\n",
      "356/356 [==============================] - 5s 15ms/step - loss: 0.0010 - accuracy: 0.9999 - val_loss: 0.1140 - val_accuracy: 0.9763\n",
      "Epoch 55/10000\n",
      "356/356 [==============================] - 6s 17ms/step - loss: 5.1951e-04 - accuracy: 1.0000 - val_loss: 0.1146 - val_accuracy: 0.9765\n",
      "Epoch 56/10000\n",
      "356/356 [==============================] - 6s 17ms/step - loss: 3.1602e-04 - accuracy: 1.0000 - val_loss: 0.1184 - val_accuracy: 0.9768\n"
     ]
    },
    {
     "name": "stdout",
     "output_type": "stream",
     "text": [
      "Epoch 57/10000\n",
      "356/356 [==============================] - 6s 17ms/step - loss: 2.6159e-04 - accuracy: 1.0000 - val_loss: 0.1181 - val_accuracy: 0.9760\n",
      "Epoch 58/10000\n",
      "356/356 [==============================] - 6s 17ms/step - loss: 2.2545e-04 - accuracy: 1.0000 - val_loss: 0.1218 - val_accuracy: 0.9760\n",
      "Epoch 59/10000\n",
      "356/356 [==============================] - 6s 17ms/step - loss: 1.9331e-04 - accuracy: 1.0000 - val_loss: 0.1232 - val_accuracy: 0.9760\n",
      "Epoch 60/10000\n",
      "356/356 [==============================] - 6s 17ms/step - loss: 1.6830e-04 - accuracy: 1.0000 - val_loss: 0.1242 - val_accuracy: 0.9760\n",
      "Epoch 61/10000\n",
      "356/356 [==============================] - 6s 17ms/step - loss: 1.4541e-04 - accuracy: 1.0000 - val_loss: 0.1262 - val_accuracy: 0.9760\n",
      "Epoch 62/10000\n",
      "356/356 [==============================] - 6s 16ms/step - loss: 1.2714e-04 - accuracy: 1.0000 - val_loss: 0.1279 - val_accuracy: 0.9768\n",
      "Epoch 63/10000\n",
      "356/356 [==============================] - 5s 15ms/step - loss: 1.1165e-04 - accuracy: 1.0000 - val_loss: 0.1296 - val_accuracy: 0.9755\n",
      "Epoch 64/10000\n",
      "356/356 [==============================] - 5s 15ms/step - loss: 9.6187e-05 - accuracy: 1.0000 - val_loss: 0.1325 - val_accuracy: 0.9765\n",
      "Epoch 65/10000\n",
      "356/356 [==============================] - 7s 21ms/step - loss: 8.4488e-05 - accuracy: 1.0000 - val_loss: 0.1347 - val_accuracy: 0.9765\n",
      "Epoch 66/10000\n",
      "356/356 [==============================] - 8s 23ms/step - loss: 7.0441e-05 - accuracy: 1.0000 - val_loss: 0.1367 - val_accuracy: 0.9758\n",
      "Epoch 67/10000\n",
      "356/356 [==============================] - 7s 20ms/step - loss: 6.0438e-05 - accuracy: 1.0000 - val_loss: 0.1373 - val_accuracy: 0.9760\n",
      "Epoch 68/10000\n",
      "356/356 [==============================] - 7s 21ms/step - loss: 5.1589e-05 - accuracy: 1.0000 - val_loss: 0.1398 - val_accuracy: 0.9755\n",
      "Epoch 69/10000\n",
      "356/356 [==============================] - 7s 21ms/step - loss: 4.3994e-05 - accuracy: 1.0000 - val_loss: 0.1421 - val_accuracy: 0.9763\n",
      "Epoch 70/10000\n",
      "356/356 [==============================] - 7s 20ms/step - loss: 3.8023e-05 - accuracy: 1.0000 - val_loss: 0.1410 - val_accuracy: 0.9755\n",
      "Epoch 71/10000\n",
      "356/356 [==============================] - 7s 21ms/step - loss: 3.3001e-05 - accuracy: 1.0000 - val_loss: 0.1447 - val_accuracy: 0.9768\n",
      "Epoch 72/10000\n",
      "356/356 [==============================] - 6s 18ms/step - loss: 2.7586e-05 - accuracy: 1.0000 - val_loss: 0.1485 - val_accuracy: 0.9763\n",
      "Epoch 73/10000\n",
      "356/356 [==============================] - 6s 18ms/step - loss: 2.3831e-05 - accuracy: 1.0000 - val_loss: 0.1506 - val_accuracy: 0.9763\n",
      "Epoch 74/10000\n",
      "356/356 [==============================] - 6s 18ms/step - loss: 2.0034e-05 - accuracy: 1.0000 - val_loss: 0.1512 - val_accuracy: 0.9765\n",
      "Epoch 75/10000\n",
      "356/356 [==============================] - 6s 18ms/step - loss: 1.7072e-05 - accuracy: 1.0000 - val_loss: 0.1539 - val_accuracy: 0.9763\n",
      "Epoch 75: early stopping\n"
     ]
    }
   ],
   "source": [
    "# fitting model\n",
    "FCNN3_train=model3.fit(encoded_train,train_y,batch_size=32,epochs=10000,callbacks=my_callbacks,verbose=\"auto\",\n",
    "                       validation_data=(encoded_val,val_y),shuffle=True)"
   ]
  },
  {
   "cell_type": "code",
   "execution_count": 65,
   "id": "e94747a3",
   "metadata": {},
   "outputs": [
    {
     "data": {
      "image/png": "[encoded data removed]",
      "text/plain": [
       "<Figure size 432x288 with 1 Axes>"
      ]
     },
     "metadata": {
      "needs_background": "light"
     },
     "output_type": "display_data"
    }
   ],
   "source": [
    "# Average error plot on train data\n",
    "history = FCNN3_train.history\n",
    "import pickle\n",
    "with open('./models/history_FCNN3_noise1.pkl','wb') as f:\n",
    "    pickle.dump(history,f)\n",
    "\n",
    "plt.plot(history['loss'])\n",
    "plt.ylabel('Average Error',fontsize=12)\n",
    "plt.xlabel('Epoch',fontsize=12)\n",
    "plt.savefig('./models/loss3_noise1.png')\n",
    "plt.show()"
   ]
  },
  {
   "cell_type": "code",
   "execution_count": 66,
   "id": "749ad8a7",
   "metadata": {},
   "outputs": [],
   "source": [
    "# saving model\n",
    "model3.save(\"./models/FCNN3_noise1.h5\")"
   ]
  },
  {
   "cell_type": "code",
   "execution_count": 67,
   "id": "f84096c8",
   "metadata": {},
   "outputs": [
    {
     "name": "stdout",
     "output_type": "stream",
     "text": [
      "119/119 [==============================] - 1s 9ms/step - loss: 0.1539 - accuracy: 0.9763\n",
      "Validation loss: 0.1538761705160141 \t Validation accuracy: 0.9762845635414124\n"
     ]
    }
   ],
   "source": [
    "# Accuracy and loss on validation data\n",
    "val_loss,val_acc=model3.evaluate(encoded_val,val_y)\n",
    "print('Validation loss: {} \\t Validation accuracy: {}'.format(val_loss,val_acc))"
   ]
  },
  {
   "cell_type": "markdown",
   "id": "76b89753",
   "metadata": {},
   "source": [
    "## Model accuracy and confusion matrix for best selected architecture"
   ]
  },
  {
   "cell_type": "code",
   "execution_count": 68,
   "id": "91a94ec8",
   "metadata": {},
   "outputs": [],
   "source": [
    "from keras import models\n",
    "\n",
    "best=models.load_model(\"./models/FCNN1_noise1.h5\")\n",
    "\n",
    "# get weights of best model\n",
    "wts = best.get_weights()\n",
    "\n",
    "# create a Keras model with same architecture as best model and set its weights equal to the best model weights\n",
    "\n",
    "best_model = keras.Sequential([\n",
    "        Input(shape=(64,),name='input_layer'),\n",
    "        Dense(512,activation=\"sigmoid\",name=\"hidden_layer_1\"),\n",
    "        Dense(256,activation=\"sigmoid\",name=\"hidden_layer_2\"),\n",
    "        Dense(128,activation=\"sigmoid\",name=\"hidden_layer_3\"),\n",
    "        Dense(5,activation=\"softmax\",name=\"output_layer\")\n",
    "        ])\n",
    "\n",
    "# Setting optimiser ( select best optimiser by comparing model complexity and validation accuracy )\n",
    "opt_Adam = keras.optimizers.Adam(learning_rate=0.001,beta_1=0.9,beta_2=0.999,epsilon=1e-08,name=\"Adam\")\n",
    "\n",
    "best_model.set_weights(wts)\n",
    "\n",
    "# compile the model\n",
    "\n",
    "best_model.compile(optimizer=opt_Adam,loss=\"categorical_crossentropy\",metrics=[\"accuracy\"])"
   ]
  },
  {
   "cell_type": "code",
   "execution_count": 69,
   "id": "5319ee9b",
   "metadata": {},
   "outputs": [
    {
     "name": "stdout",
     "output_type": "stream",
     "text": [
      "356/356 [==============================] - 3s 8ms/step - loss: 2.3235e-04 - accuracy: 1.0000\n",
      "Train loss: 0.0002323518565390259 \t Train accuracy: 1.0\n",
      "119/119 [==============================] - 1s 7ms/step - loss: 0.1128 - accuracy: 0.9763\n",
      "Validation loss: 0.11282646656036377 \t Validation accuracy: 0.9762845635414124\n",
      "119/119 [==============================] - 1s 8ms/step - loss: 0.1143 - accuracy: 0.9758\n",
      "Test loss: 0.11428135633468628 \t Test accuracy: 0.9757575988769531\n",
      "119/119 [==============================] - 1s 8ms/step\n",
      "tf.Tensor(\n",
      "[[747   7   3   2   0]\n",
      " [  6 734  10   4   5]\n",
      " [  2  12 737   3   5]\n",
      " [  1  11   2 745   0]\n",
      " [  5   2  11   1 740]], shape=(5, 5), dtype=int32)\n"
     ]
    }
   ],
   "source": [
    "from tensorflow.math import confusion_matrix\n",
    "\n",
    "# Testing on train data\n",
    "train_metric=best_model.evaluate(encoded_train,train_y)\n",
    "print(\"Train loss: {} \\t Train accuracy: {}\".format(train_metric[0],train_metric[1]))\n",
    "\n",
    "# Testing on validation data\n",
    "val_metric=best_model.evaluate(encoded_val,val_y)\n",
    "print(\"Validation loss: {} \\t Validation accuracy: {}\".format(val_metric[0],val_metric[1]))\n",
    "\n",
    "# Testing on test data\n",
    "test_metric=best_model.evaluate(encoded_test,test_y)\n",
    "print(\"Test loss: {} \\t Test accuracy: {}\".format(test_metric[0],test_metric[1]))\n",
    "\n",
    "test_pred=best_model.predict(encoded_test,verbose=1)\n",
    "pred_y=np.argmax(test_pred,axis=1)\n",
    "\n",
    "# confusion matrix for test data\n",
    "test_y_label = np.argmax(test_y,axis=1)\n",
    "conf_mat=confusion_matrix(test_y_label,pred_y)\n",
    "print(conf_mat)"
   ]
  },
  {
   "cell_type": "markdown",
   "id": "4d67f2b0",
   "metadata": {},
   "source": [
    "## weight visualization"
   ]
  },
  {
   "cell_type": "code",
   "execution_count": 70,
   "id": "3f299f73",
   "metadata": {},
   "outputs": [
    {
     "data": {
      "text/plain": [
       "(784, 64)"
      ]
     },
     "execution_count": 70,
     "metadata": {},
     "output_type": "execute_result"
    }
   ],
   "source": [
    "w_ij=full_model.layers[1].get_weights()    # weights between input and hidden layer 1 (bottleneck layer)\n",
    "w_ij[0].shape"
   ]
  },
  {
   "cell_type": "code",
   "execution_count": 71,
   "id": "1e29c3b0",
   "metadata": {},
   "outputs": [
    {
     "data": {
      "text/plain": [
       "(64, 28, 28)"
      ]
     },
     "execution_count": 71,
     "metadata": {},
     "output_type": "execute_result"
    }
   ],
   "source": [
    "from numpy.linalg import norm\n",
    "wts1=[]\n",
    "for w in w_ij[0].T:\n",
    "    w=w/norm(w)\n",
    "    wts1.append(w.reshape(28,28))\n",
    "\n",
    "wts1 = np.array(wts1)\n",
    "wts1.shape"
   ]
  },
  {
   "cell_type": "code",
   "execution_count": 75,
   "id": "d756e4fe",
   "metadata": {},
   "outputs": [
    {
     "data": {
      "image/png": "[encoded data removed]",
      "text/plain": [
       "<Figure size 864x864 with 16 Axes>"
      ]
     },
     "metadata": {
      "needs_background": "light"
     },
     "output_type": "display_data"
    }
   ],
   "source": [
    "fig,axes = plt.subplots(4,4,figsize=(12,12))\n",
    "for i,ax in enumerate(axes.flatten()):\n",
    "    j = 4*i\n",
    "    ax.set_title(\"Node no: \"+str(j),fontsize=12)\n",
    "    ax.imshow(wts1[j],cmap='gray')\n",
    "    ax.axis('off')\n",
    "fig.suptitle('Visualization of inputs that maximally activate each neuron',fontsize=14)\n",
    "plt.savefig('./img/wts_noise1.png')\n",
    "plt.show()\n",
    "plt.close()"
   ]
  },
  {
   "cell_type": "code",
   "execution_count": null,
   "id": "c1e6ca63",
   "metadata": {},
   "outputs": [],
   "source": []
  }
 ],
 "metadata": {
  "kernelspec": {
   "display_name": "Python 3 (ipykernel)",
   "language": "python",
   "name": "python3"
  },
  "language_info": {
   "codemirror_mode": {
    "name": "ipython",
    "version": 3
   },
   "file_extension": ".py",
   "mimetype": "text/x-python",
   "name": "python",
   "nbconvert_exporter": "python",
   "pygments_lexer": "ipython3",
   "version": "3.9.7"
  }
 },
 "nbformat": 4,
 "nbformat_minor": 5
}
